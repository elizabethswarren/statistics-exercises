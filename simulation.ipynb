{
 "cells": [
  {
   "cell_type": "markdown",
   "id": "093afe77",
   "metadata": {},
   "source": [
    "# Statistics Simulation Exercises"
   ]
  },
  {
   "cell_type": "markdown",
   "id": "6e76a1f2",
   "metadata": {},
   "source": [
    "## 1.  How likely is it that you roll doubles when rolling two dice?"
   ]
  },
  {
   "cell_type": "code",
   "execution_count": 2,
   "id": "5f59054d",
   "metadata": {},
   "outputs": [],
   "source": [
    "import numpy as np\n",
    "import pandas as pd\n",
    "import math"
   ]
  },
  {
   "cell_type": "code",
   "execution_count": 51,
   "id": "250216e2",
   "metadata": {},
   "outputs": [],
   "source": [
    "outcome = [1, 2, 3, 4, 5, 6] #possible outcome of the roll of one die\n",
    "\n",
    "n_trials = 2 #number of dice rolled\n",
    "\n",
    "n_simulations = 100_000 #number of dice is rolled"
   ]
  },
  {
   "cell_type": "code",
   "execution_count": 78,
   "id": "8fddedb2",
   "metadata": {},
   "outputs": [
    {
     "data": {
      "text/plain": [
       "0.16553"
      ]
     },
     "execution_count": 78,
     "metadata": {},
     "output_type": "execute_result"
    }
   ],
   "source": [
    "dice_rolls = np.random.choice(outcome, (n_simulations, n_trials)) # generates the dice rolls\n",
    "\n",
    "double_roll = [roll for roll in dice_rolls if roll[0] == roll[1]] # assigns a variable to only rolls that are doubles\n",
    "\n",
    "len(double_roll) / len(dice_rolls) # divides the results of double rolls with all outcomes"
   ]
  },
  {
   "cell_type": "code",
   "execution_count": 82,
   "id": "800bd575",
   "metadata": {},
   "outputs": [
    {
     "data": {
      "text/plain": [
       "0.16666666666666666"
      ]
     },
     "execution_count": 82,
     "metadata": {},
     "output_type": "execute_result"
    }
   ],
   "source": [
    "# expected probability\n",
    "outcome_test = np.array([[1,1],[1,2],[1,3],[1,4],[1,5],[1,6],[2,1],[2,2],[2,3],[2,4],[2,5],[2,6],[3,1],[3,2],[3,3],[3,4],[3,5],[3,6],[4,1],[4,2],[4,3],[4,4],[4,5],[4,6],[5,1],[5,2],[5,3],[5,4],[5,5],[5,6],[6,1],[6,2],[6,3],[6,4],[6,5],[6,6]]) # 6 for numerator\n",
    "6/len(outcome_test)"
   ]
  },
  {
   "cell_type": "markdown",
   "id": "acee13a6",
   "metadata": {},
   "source": [
    "## 2. If you flip 8 coins, what is the probability of getting exactly 3 heads? What is the probability of getting more than 3 heads?"
   ]
  },
  {
   "cell_type": "code",
   "execution_count": 5,
   "id": "4387e042",
   "metadata": {},
   "outputs": [],
   "source": [
    "outcome = ['H', 'T']\n",
    "\n",
    "n_trials = 8\n",
    "\n",
    "n_simulations = 100_000"
   ]
  },
  {
   "cell_type": "code",
   "execution_count": 6,
   "id": "c8b8dc10",
   "metadata": {},
   "outputs": [
    {
     "data": {
      "text/plain": [
       "0.2164"
      ]
     },
     "execution_count": 6,
     "metadata": {},
     "output_type": "execute_result"
    }
   ],
   "source": [
    "coin_toss = np.random.choice(outcome, (n_simulations, n_trials)) #create matrix\n",
    "\n",
    "head_counts = (coin_toss == 'H').sum(axis=1)\n",
    "\n",
    "(head_counts == 3).mean()"
   ]
  },
  {
   "cell_type": "code",
   "execution_count": 7,
   "id": "190c3761",
   "metadata": {},
   "outputs": [
    {
     "data": {
      "text/plain": [
       "0.63993"
      ]
     },
     "execution_count": 7,
     "metadata": {},
     "output_type": "execute_result"
    }
   ],
   "source": [
    "(head_counts > 3).mean()"
   ]
  },
  {
   "cell_type": "markdown",
   "id": "daee8d06",
   "metadata": {},
   "source": [
    "## 3. There are approximitely 3 web development cohorts for every 1 data science cohort at Codeup. Assuming that Codeup randomly selects an alumni to put on a billboard, what are the odds that the two billboards I drive past both have data science students on them?"
   ]
  },
  {
   "cell_type": "code",
   "execution_count": 93,
   "id": "03c9e6de",
   "metadata": {},
   "outputs": [],
   "source": [
    "outcome = ['W', 'W', 'W', 'D']\n",
    "#Instructor Answer: p_webdev = 0.75\n",
    "#                 : p_ds = 0.25\n",
    "\n",
    "n_trials = 2\n",
    "\n",
    "n_simulations = 100_000"
   ]
  },
  {
   "cell_type": "code",
   "execution_count": 100,
   "id": "19b506fc",
   "metadata": {},
   "outputs": [
    {
     "data": {
      "text/plain": [
       "0.49538"
      ]
     },
     "execution_count": 100,
     "metadata": {},
     "output_type": "execute_result"
    }
   ],
   "source": [
    "students_on_billboard = np.random.choice(outcome, (n_simulations, n_trials))\n",
    "\n",
    "#boards = np.random.random((n_simulations,n_trials))\n",
    "# DS_billboards = boards < p_ds\n",
    "\n",
    "data_science_student = (students_on_billboard == 'D').sum(axis=1)\n",
    "\n",
    "#DS_billboards.sum(axis=1)==2.mean()\n",
    "\n",
    "data_science_student.mean()"
   ]
  },
  {
   "cell_type": "markdown",
   "id": "4569c351",
   "metadata": {},
   "source": [
    "## 4. Codeup students buy, on average, 3 poptart packages with a standard deviation of 1.5 a day from the snack vending machine. If on monday the machine is restocked with 17 poptart packages, how likely is it that I will be able to buy some poptarts on Friday afternoon? (Remember, if you have mean and standard deviation, use the np.random.normal) You'll need to make a judgement call on how to handle some of your values"
   ]
  },
  {
   "cell_type": "code",
   "execution_count": 13,
   "id": "aae7edfe",
   "metadata": {},
   "outputs": [
    {
     "data": {
      "text/plain": [
       "-2.738509964575055"
      ]
     },
     "execution_count": 13,
     "metadata": {},
     "output_type": "execute_result"
    }
   ],
   "source": [
    "mean = 3 * 5 #calculate the average amount of poptarts over the course of 5 days\n",
    "#pop_avg = 3\n",
    "stand_dev = 1.5 * np.sqrt(5) #calculates the variance of poptart purchases for each day \n",
    "#pop_std = 1.5          #(standard deviation is the square root of variance)\n",
    "poptarts = 17    \n",
    "#n_days = 5\n",
    "poptarts - np.random.normal(mean, stand_dev)\n",
    "#Instructor answer: consumed_poptart = np.random.normal(pop_avg, pop_std, (n_simulations, n_days))\n",
    "#cal_prob = (consumed_poptarts.sum(axis=1) < 16).mean()"
   ]
  },
  {
   "cell_type": "markdown",
   "id": "a9d78231",
   "metadata": {},
   "source": [
    "## 5. Compare Heights\n",
    "\n",
    "### a. Men have an average height of 178 cm and standard deviation of 8cm."
   ]
  },
  {
   "cell_type": "markdown",
   "id": "be4a7f5d",
   "metadata": {},
   "source": [
    "### b. Women have a mean of 170, sd = 6cm."
   ]
  },
  {
   "cell_type": "markdown",
   "id": "d9090fef",
   "metadata": {},
   "source": [
    "### c. Since you have means and standard deviations, you can use `np.random.normal` to generate observations."
   ]
  },
  {
   "cell_type": "code",
   "execution_count": 133,
   "id": "840167e3",
   "metadata": {},
   "outputs": [],
   "source": [
    "n_simulations = 100_000\n",
    "men_height = np.random.normal(178, 8, n_simulations) #randomly generates men's heights within std n_simulations times"
   ]
  },
  {
   "cell_type": "code",
   "execution_count": 134,
   "id": "115c6285",
   "metadata": {},
   "outputs": [],
   "source": [
    "women_height = np.random.normal(170, 6, n_simulations) #randomly generates women's heights within std n_simulations times"
   ]
  },
  {
   "cell_type": "markdown",
   "id": "64aff38c",
   "metadata": {},
   "source": [
    "### d. If a man and woman are chosen at random, what is the likelihood the woman is taller than the man?"
   ]
  },
  {
   "cell_type": "code",
   "execution_count": 137,
   "id": "8ec64bd7",
   "metadata": {},
   "outputs": [
    {
     "data": {
      "text/plain": [
       "0.2134"
      ]
     },
     "execution_count": 137,
     "metadata": {},
     "output_type": "execute_result"
    }
   ],
   "source": [
    "taller_woman = women_height > men_height #instances where the woman is taller than the man\n",
    "\n",
    "taller_woman.mean()"
   ]
  },
  {
   "cell_type": "markdown",
   "id": "5cf98764",
   "metadata": {},
   "source": [
    "## 6. When installing anaconda on a student's computer, there's a 1 in 250 chance that the download is corrupted and the installation fails. What are the odds that after having 50 students download anaconda, no one has an installation issue? 100 students?"
   ]
  },
  {
   "cell_type": "code",
   "execution_count": 192,
   "id": "6bccd085",
   "metadata": {},
   "outputs": [
    {
     "data": {
      "text/plain": [
       "0.81979"
      ]
     },
     "execution_count": 192,
     "metadata": {},
     "output_type": "execute_result"
    }
   ],
   "source": [
    "#probability of no installation errors with 50 students\n",
    "p_failure = 1/250\n",
    "\n",
    "nstudents = 50\n",
    "\n",
    "n_simulation = 100_000\n",
    "\n",
    "data = np.random.random((n_simulation,nstudents)) #creates a matrix that generates a number between zero and one\n",
    "                                                 # in a 100_000 rows with 50 values per row \n",
    "\n",
    "failure = data < p_failure #this creates the probability of failure. \n",
    "                           #In this instance, if the number is less than our percent chance of failure then a failure occured.\n",
    "\n",
    "(failure.sum(axis=1) == 0).mean() #since we want to know the probability of no failure,\n",
    "                                  #we want to find the percentage of installs that have no failures.\n",
    "\n",
    "\n"
   ]
  },
  {
   "cell_type": "code",
   "execution_count": 193,
   "id": "d41e1c25",
   "metadata": {},
   "outputs": [
    {
     "data": {
      "text/plain": [
       "0.66964"
      ]
     },
     "execution_count": 193,
     "metadata": {},
     "output_type": "execute_result"
    }
   ],
   "source": [
    "#probability of no installation errors with 100 students\n",
    "p_failure = 1/250\n",
    "nstudents = 100\n",
    "\n",
    "n_simulation = 100_000\n",
    "\n",
    "data = np.random.random((n_simulation,nstudents))\n",
    "\n",
    "failure = data < p_failure\n",
    "\n",
    "(failure.sum(axis=1) == 0).mean()\n",
    "\n",
    "\n"
   ]
  },
  {
   "cell_type": "markdown",
   "id": "56b9b73d",
   "metadata": {},
   "source": [
    "### What is the probability that we observe an installation issue within the first 150 students that download anaconda?"
   ]
  },
  {
   "cell_type": "code",
   "execution_count": 194,
   "id": "d864ae2d",
   "metadata": {},
   "outputs": [
    {
     "data": {
      "text/plain": [
       "0.54715"
      ]
     },
     "execution_count": 194,
     "metadata": {},
     "output_type": "execute_result"
    }
   ],
   "source": [
    "p_failure = 1/250\n",
    "\n",
    "nstudents = 150\n",
    "\n",
    "n_simulation = 100_000\n",
    "\n",
    "data = np.random.random((n_simulations,nstudents))\n",
    "\n",
    "failure = data < p_failure\n",
    "\n",
    "(failure.sum(axis=1) == 0).mean()"
   ]
  },
  {
   "cell_type": "markdown",
   "id": "cd9ae976",
   "metadata": {},
   "source": [
    "## 7. There's a 70% chance on any given day that there will be at least one food truck at Travis Park. However, you haven't seen a food truck there in 3 days. How unlikely is this?"
   ]
  },
  {
   "cell_type": "code",
   "execution_count": 16,
   "id": "a1d20ee9",
   "metadata": {},
   "outputs": [
    {
     "data": {
      "text/plain": [
       "0.30199"
      ]
     },
     "execution_count": 16,
     "metadata": {},
     "output_type": "execute_result"
    }
   ],
   "source": [
    "p_no_foodtruck = .3 #chance that the foodtruck will not be at the park\n",
    "\n",
    "p_no_foodtruck_for_3_cons_days = 3 * p_no_foodtruck #probability of no foodtruck for 3 consecutive days\n",
    "\n",
    "ndays = 3 #days\n",
    "\n",
    "n_simulations = 100_000 #simulations to run\n",
    "\n",
    "data = np.random.random((n_simulations,ndays)) #random number between 0 and 1 for each\n",
    "\n",
    "no_foodtruck = data > p_no_foodtruck_for_3_cons_days\n",
    "\n",
    "no_foodtruck.sum(axis=1) \n",
    "\n",
    "(no_foodtruck.sum(axis=1) ).mean() "
   ]
  },
  {
   "cell_type": "markdown",
   "id": "f21e7467",
   "metadata": {},
   "source": [
    "### How likely is it that a food truck will show up sometime this week?"
   ]
  },
  {
   "cell_type": "code",
   "execution_count": 198,
   "id": "18d6a5ee",
   "metadata": {},
   "outputs": [
    {
     "data": {
      "text/plain": [
       "0.99982"
      ]
     },
     "execution_count": 198,
     "metadata": {},
     "output_type": "execute_result"
    }
   ],
   "source": [
    "p_foodtruck = .7 #chance that the foodtruck will be at the park\n",
    "\n",
    "ndays = 7 #number of days in the week\n",
    "\n",
    "n_simulations = 100_000 #simulations to run\n",
    "\n",
    "data = np.random.random((n_simulations,ndays)) #random number between 0 and 1 for each\n",
    "\n",
    "foodtruck_present = data < p_foodtruck #if the number is less than the probability of the truck being at park,\n",
    "                                       #then the truck is there\n",
    "\n",
    "foodtruck_present.sum(axis=1) # number of times in the week that truck was at the park\n",
    "\n",
    "(foodtruck_present.sum(axis=1) >= 1).mean() #the chance that the truck will show up at the park at least\n",
    "                                            #one time during the week"
   ]
  },
  {
   "cell_type": "markdown",
   "id": "8fd2be95",
   "metadata": {},
   "source": [
    "## 8. If 23 people are in the same room, what are the odds that two of them share a birthday? What if it's 20 people? 40?"
   ]
  },
  {
   "cell_type": "code",
   "execution_count": 56,
   "id": "f8cbd9e1",
   "metadata": {},
   "outputs": [
    {
     "data": {
      "text/plain": [
       "0.5675148130463031"
      ]
     },
     "execution_count": 56,
     "metadata": {},
     "output_type": "execute_result"
    }
   ],
   "source": [
    "\n",
    "# this formula tests the probability of sharing a birthday.\n",
    "# npeople + 1 is checking a single person's birthday, so we need to multiply that by each person \n",
    "\n",
    "def p_birthday(n):\n",
    "    p_no_match = 1.0\n",
    "    for people in range(1, n+1):\n",
    "        p_no_match *= (365 - (people + 1)) / 365\n",
    "    p_match = 1 - p_no_match\n",
    "    return p_match\n",
    "\n",
    "p_birthday(23)\n",
    "\n",
    "\n",
    "'''\n",
    "Instructor Answer:\n",
    "outcomes = range(0,365)\n",
    "n_students = 23\n",
    "n_simulations=10000\n",
    "bd = np.random.choice(outcomes, (n_simulations, n_students))\n",
    "(pd.DataFrame(bd).nunique(axis=1) < 23).mean()\n",
    "'''"
   ]
  },
  {
   "cell_type": "code",
   "execution_count": 57,
   "id": "1c32d269",
   "metadata": {},
   "outputs": [
    {
     "data": {
      "text/plain": [
       "0.47425491015612864"
      ]
     },
     "execution_count": 57,
     "metadata": {},
     "output_type": "execute_result"
    }
   ],
   "source": [
    "p_birthday(20)"
   ]
  },
  {
   "cell_type": "code",
   "execution_count": 58,
   "id": "1f70a289",
   "metadata": {},
   "outputs": [
    {
     "data": {
      "text/plain": [
       "0.9137942915386876"
      ]
     },
     "execution_count": 58,
     "metadata": {},
     "output_type": "execute_result"
    }
   ],
   "source": [
    "p_birthday(40)"
   ]
  },
  {
   "cell_type": "code",
   "execution_count": null,
   "id": "99db3258",
   "metadata": {},
   "outputs": [],
   "source": []
  }
 ],
 "metadata": {
  "kernelspec": {
   "display_name": "Python 3 (ipykernel)",
   "language": "python",
   "name": "python3"
  },
  "language_info": {
   "codemirror_mode": {
    "name": "ipython",
    "version": 3
   },
   "file_extension": ".py",
   "mimetype": "text/x-python",
   "name": "python",
   "nbconvert_exporter": "python",
   "pygments_lexer": "ipython3",
   "version": "3.10.9"
  }
 },
 "nbformat": 4,
 "nbformat_minor": 5
}
