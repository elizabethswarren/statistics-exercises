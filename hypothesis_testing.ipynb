{
 "cells": [
  {
   "cell_type": "markdown",
   "id": "4bf7832b",
   "metadata": {},
   "source": [
    "# Hypothesis Testing Exercises"
   ]
  },
  {
   "cell_type": "code",
   "execution_count": 73,
   "id": "ddbac02e",
   "metadata": {},
   "outputs": [],
   "source": [
    "from scipy import stats\n",
    "import numpy as np\n",
    "import pandas as pd\n",
    "import matplotlib.pyplot as plt"
   ]
  },
  {
   "cell_type": "markdown",
   "id": "36071b17",
   "metadata": {},
   "source": [
    "## 1. Answer with the type of test you would use (assume normal distribution):"
   ]
  },
  {
   "cell_type": "markdown",
   "id": "12771d19",
   "metadata": {},
   "source": [
    "### a. Is there a difference in grades of students on the second floor compared to grades of all students?"
   ]
  },
  {
   "cell_type": "markdown",
   "id": "dc370f54",
   "metadata": {},
   "source": [
    "Independent T-Test\n",
    "\n",
    "Instructor Answer: One sample t-test two tailed"
   ]
  },
  {
   "cell_type": "markdown",
   "id": "28c3f39a",
   "metadata": {},
   "source": [
    "### b. Are adults who drink milk taller than adults who dont drink milk?"
   ]
  },
  {
   "cell_type": "markdown",
   "id": "d682b6ab",
   "metadata": {},
   "source": [
    "One sample T-test\n",
    "\n",
    "Instructor answer: Independent one-tailed t-test "
   ]
  },
  {
   "cell_type": "markdown",
   "id": "d196e6fa",
   "metadata": {},
   "source": [
    "### c. Is the the price of gas higher in texas or in new mexico?"
   ]
  },
  {
   "cell_type": "markdown",
   "id": "b36d4934",
   "metadata": {},
   "source": [
    "One sample T-test\n",
    "\n",
    "Instructor Answer: Independent one-tailed t-test"
   ]
  },
  {
   "cell_type": "markdown",
   "id": "2459ca5a",
   "metadata": {},
   "source": [
    "### d. Are there differences in stress levels between students who take data science vs students who take web development vs students who take cloud academy?"
   ]
  },
  {
   "cell_type": "markdown",
   "id": "980f3db6",
   "metadata": {},
   "source": [
    "ANOVA test"
   ]
  },
  {
   "cell_type": "markdown",
   "id": "46cd4625",
   "metadata": {},
   "source": [
    "## 2. Ace Realty wants to determine whether the average time it takes to sell homes is different for its two offices. A sample of 40 sales from office #1 revealed a mean of 90 days and a standard deviation of 15 days. A sample of 50 sales from office #2 revealed a mean of 100 days and a standard deviation of 20 days. Use a .05 level of significance."
   ]
  },
  {
   "cell_type": "markdown",
   "id": "37ecc13e",
   "metadata": {},
   "source": [
    "H0 = The mean of length of time to sell a home at office A is == the mean of the length of time to sell home at office B.\n",
    "\n",
    "HA = The mean of length of time to sell a home at office A is != the mean of the length of time to sell home at office B.\n",
    "\n"
   ]
  },
  {
   "cell_type": "code",
   "execution_count": 16,
   "id": "907c45b6",
   "metadata": {},
   "outputs": [
    {
     "name": "stdout",
     "output_type": "stream",
     "text": [
      "146.80842818538014\n",
      "399.38322533367705\n"
     ]
    }
   ],
   "source": [
    "office_a = np.random.normal(90, 15, 40)\n",
    "office_b = np.random.normal(100, 20, 50)\n",
    "'''\n",
    "Instructor answer:office_1 = stats.norm(90, 15).rvs(40)\n",
    "                  office_2 = stats.norm(100,20).rvs(50)\n",
    "                  \n",
    "stat, p_val = stats.levene(office_1,office_2)\n",
    "if p_val < 0.05:\n",
    "    print('We can reject H0 ==> inequal variance')\n",
    "else:\n",
    "    print('We can refect H0 ==> equal variance')'''\n",
    "print(office_a.var())\n",
    "print(office_b.var())"
   ]
  },
  {
   "cell_type": "code",
   "execution_count": 72,
   "id": "9a3573c4",
   "metadata": {},
   "outputs": [
    {
     "name": "stdout",
     "output_type": "stream",
     "text": [
      "-2.5958751317255464 0.005582424000215237\n",
      "We fail to reject the null\n"
     ]
    }
   ],
   "source": [
    "alpha = .05\n",
    "t, p = stats.ttest_ind(office_a, office_b, equal_var=False)\n",
    "print(t, p/2)\n",
    "\n",
    "if p / 2 > alpha:\n",
    "    print('We fail to reject the null')\n",
    "elif t < 0:\n",
    "    print('We fail to reject the null')\n",
    "else:\n",
    "    print('We reject the null')"
   ]
  },
  {
   "cell_type": "code",
   "execution_count": 2,
   "id": "4e8277b4",
   "metadata": {},
   "outputs": [],
   "source": [
    "from pydataset import data"
   ]
  },
  {
   "cell_type": "markdown",
   "id": "75e31d1c",
   "metadata": {},
   "source": [
    "## 3. Load the mpg dataset and use it to answer the following questions:"
   ]
  },
  {
   "cell_type": "code",
   "execution_count": 25,
   "id": "9cdb5d8c",
   "metadata": {},
   "outputs": [
    {
     "data": {
      "text/html": [
       "<div>\n",
       "<style scoped>\n",
       "    .dataframe tbody tr th:only-of-type {\n",
       "        vertical-align: middle;\n",
       "    }\n",
       "\n",
       "    .dataframe tbody tr th {\n",
       "        vertical-align: top;\n",
       "    }\n",
       "\n",
       "    .dataframe thead th {\n",
       "        text-align: right;\n",
       "    }\n",
       "</style>\n",
       "<table border=\"1\" class=\"dataframe\">\n",
       "  <thead>\n",
       "    <tr style=\"text-align: right;\">\n",
       "      <th></th>\n",
       "      <th>manufacturer</th>\n",
       "      <th>model</th>\n",
       "      <th>displ</th>\n",
       "      <th>year</th>\n",
       "      <th>cyl</th>\n",
       "      <th>trans</th>\n",
       "      <th>drv</th>\n",
       "      <th>cty</th>\n",
       "      <th>hwy</th>\n",
       "      <th>fl</th>\n",
       "      <th>class</th>\n",
       "    </tr>\n",
       "  </thead>\n",
       "  <tbody>\n",
       "    <tr>\n",
       "      <th>1</th>\n",
       "      <td>audi</td>\n",
       "      <td>a4</td>\n",
       "      <td>1.8</td>\n",
       "      <td>1999</td>\n",
       "      <td>4</td>\n",
       "      <td>auto(l5)</td>\n",
       "      <td>f</td>\n",
       "      <td>18</td>\n",
       "      <td>29</td>\n",
       "      <td>p</td>\n",
       "      <td>compact</td>\n",
       "    </tr>\n",
       "    <tr>\n",
       "      <th>2</th>\n",
       "      <td>audi</td>\n",
       "      <td>a4</td>\n",
       "      <td>1.8</td>\n",
       "      <td>1999</td>\n",
       "      <td>4</td>\n",
       "      <td>manual(m5)</td>\n",
       "      <td>f</td>\n",
       "      <td>21</td>\n",
       "      <td>29</td>\n",
       "      <td>p</td>\n",
       "      <td>compact</td>\n",
       "    </tr>\n",
       "    <tr>\n",
       "      <th>3</th>\n",
       "      <td>audi</td>\n",
       "      <td>a4</td>\n",
       "      <td>2.0</td>\n",
       "      <td>2008</td>\n",
       "      <td>4</td>\n",
       "      <td>manual(m6)</td>\n",
       "      <td>f</td>\n",
       "      <td>20</td>\n",
       "      <td>31</td>\n",
       "      <td>p</td>\n",
       "      <td>compact</td>\n",
       "    </tr>\n",
       "    <tr>\n",
       "      <th>4</th>\n",
       "      <td>audi</td>\n",
       "      <td>a4</td>\n",
       "      <td>2.0</td>\n",
       "      <td>2008</td>\n",
       "      <td>4</td>\n",
       "      <td>auto(av)</td>\n",
       "      <td>f</td>\n",
       "      <td>21</td>\n",
       "      <td>30</td>\n",
       "      <td>p</td>\n",
       "      <td>compact</td>\n",
       "    </tr>\n",
       "    <tr>\n",
       "      <th>5</th>\n",
       "      <td>audi</td>\n",
       "      <td>a4</td>\n",
       "      <td>2.8</td>\n",
       "      <td>1999</td>\n",
       "      <td>6</td>\n",
       "      <td>auto(l5)</td>\n",
       "      <td>f</td>\n",
       "      <td>16</td>\n",
       "      <td>26</td>\n",
       "      <td>p</td>\n",
       "      <td>compact</td>\n",
       "    </tr>\n",
       "    <tr>\n",
       "      <th>...</th>\n",
       "      <td>...</td>\n",
       "      <td>...</td>\n",
       "      <td>...</td>\n",
       "      <td>...</td>\n",
       "      <td>...</td>\n",
       "      <td>...</td>\n",
       "      <td>...</td>\n",
       "      <td>...</td>\n",
       "      <td>...</td>\n",
       "      <td>...</td>\n",
       "      <td>...</td>\n",
       "    </tr>\n",
       "    <tr>\n",
       "      <th>230</th>\n",
       "      <td>volkswagen</td>\n",
       "      <td>passat</td>\n",
       "      <td>2.0</td>\n",
       "      <td>2008</td>\n",
       "      <td>4</td>\n",
       "      <td>auto(s6)</td>\n",
       "      <td>f</td>\n",
       "      <td>19</td>\n",
       "      <td>28</td>\n",
       "      <td>p</td>\n",
       "      <td>midsize</td>\n",
       "    </tr>\n",
       "    <tr>\n",
       "      <th>231</th>\n",
       "      <td>volkswagen</td>\n",
       "      <td>passat</td>\n",
       "      <td>2.0</td>\n",
       "      <td>2008</td>\n",
       "      <td>4</td>\n",
       "      <td>manual(m6)</td>\n",
       "      <td>f</td>\n",
       "      <td>21</td>\n",
       "      <td>29</td>\n",
       "      <td>p</td>\n",
       "      <td>midsize</td>\n",
       "    </tr>\n",
       "    <tr>\n",
       "      <th>232</th>\n",
       "      <td>volkswagen</td>\n",
       "      <td>passat</td>\n",
       "      <td>2.8</td>\n",
       "      <td>1999</td>\n",
       "      <td>6</td>\n",
       "      <td>auto(l5)</td>\n",
       "      <td>f</td>\n",
       "      <td>16</td>\n",
       "      <td>26</td>\n",
       "      <td>p</td>\n",
       "      <td>midsize</td>\n",
       "    </tr>\n",
       "    <tr>\n",
       "      <th>233</th>\n",
       "      <td>volkswagen</td>\n",
       "      <td>passat</td>\n",
       "      <td>2.8</td>\n",
       "      <td>1999</td>\n",
       "      <td>6</td>\n",
       "      <td>manual(m5)</td>\n",
       "      <td>f</td>\n",
       "      <td>18</td>\n",
       "      <td>26</td>\n",
       "      <td>p</td>\n",
       "      <td>midsize</td>\n",
       "    </tr>\n",
       "    <tr>\n",
       "      <th>234</th>\n",
       "      <td>volkswagen</td>\n",
       "      <td>passat</td>\n",
       "      <td>3.6</td>\n",
       "      <td>2008</td>\n",
       "      <td>6</td>\n",
       "      <td>auto(s6)</td>\n",
       "      <td>f</td>\n",
       "      <td>17</td>\n",
       "      <td>26</td>\n",
       "      <td>p</td>\n",
       "      <td>midsize</td>\n",
       "    </tr>\n",
       "  </tbody>\n",
       "</table>\n",
       "<p>234 rows × 11 columns</p>\n",
       "</div>"
      ],
      "text/plain": [
       "    manufacturer   model  displ  year  cyl       trans drv  cty  hwy fl  \\\n",
       "1           audi      a4    1.8  1999    4    auto(l5)   f   18   29  p   \n",
       "2           audi      a4    1.8  1999    4  manual(m5)   f   21   29  p   \n",
       "3           audi      a4    2.0  2008    4  manual(m6)   f   20   31  p   \n",
       "4           audi      a4    2.0  2008    4    auto(av)   f   21   30  p   \n",
       "5           audi      a4    2.8  1999    6    auto(l5)   f   16   26  p   \n",
       "..           ...     ...    ...   ...  ...         ...  ..  ...  ... ..   \n",
       "230   volkswagen  passat    2.0  2008    4    auto(s6)   f   19   28  p   \n",
       "231   volkswagen  passat    2.0  2008    4  manual(m6)   f   21   29  p   \n",
       "232   volkswagen  passat    2.8  1999    6    auto(l5)   f   16   26  p   \n",
       "233   volkswagen  passat    2.8  1999    6  manual(m5)   f   18   26  p   \n",
       "234   volkswagen  passat    3.6  2008    6    auto(s6)   f   17   26  p   \n",
       "\n",
       "       class  \n",
       "1    compact  \n",
       "2    compact  \n",
       "3    compact  \n",
       "4    compact  \n",
       "5    compact  \n",
       "..       ...  \n",
       "230  midsize  \n",
       "231  midsize  \n",
       "232  midsize  \n",
       "233  midsize  \n",
       "234  midsize  \n",
       "\n",
       "[234 rows x 11 columns]"
      ]
     },
     "execution_count": 25,
     "metadata": {},
     "output_type": "execute_result"
    }
   ],
   "source": [
    "mpg = data('mpg')\n",
    "mpg"
   ]
  },
  {
   "cell_type": "markdown",
   "id": "97fbe9e0",
   "metadata": {},
   "source": [
    "## a. Is there a difference in fuel-efficiency in cars from 2008 vs 1999?"
   ]
  },
  {
   "cell_type": "markdown",
   "id": "8df48bd7",
   "metadata": {},
   "source": [
    "H0 = Fuel efficiency in cars from 2008 == the fuel efficiency of cars in 1999.\n",
    "\n",
    "HA = Fuel efficiency in cars from 2008 != the fuel efficiency of cars in 1999.\n",
    "\n",
    "There are two measures of fuel efficiency in mpg: city and highway. This hypothesis will measure the average of these two values."
   ]
  },
  {
   "cell_type": "code",
   "execution_count": 78,
   "id": "014f24c8",
   "metadata": {},
   "outputs": [
    {
     "name": "stdout",
     "output_type": "stream",
     "text": [
      "24.097480106100797\n",
      "27.122605363984682\n"
     ]
    }
   ],
   "source": [
    "cars_2008_fe = mpg[mpg.year == 2008][['cty', 'hwy']].mean(axis=1)\n",
    "cars_1999_fe = mpg[mpg.year == 1999][['cty', 'hwy']].mean(axis=1)\n",
    "'''\n",
    "Instructor Answer:\n",
    "Harmonic mean is used for rates.\n",
    "mpg['avg_fe'] = stats.hmean(mpg[['city', 'hwy']], axis =1)'''\n",
    "print(cars_2008_fe.var())\n",
    "print(cars_1999_fe.var())\n",
    "\n",
    "# Instructor Answer: variance does not have to be exact, just needs to be close"
   ]
  },
  {
   "cell_type": "code",
   "execution_count": 77,
   "id": "7efb35f2",
   "metadata": {},
   "outputs": [
    {
     "name": "stdout",
     "output_type": "stream",
     "text": [
      "-0.21960177245940962 0.4131872020161789\n",
      "We fail to reject the null\n"
     ]
    }
   ],
   "source": [
    "alpha = .05\n",
    "t, p = stats.ttest_ind(cars_2008_fe, cars_1999_fe, equal_var=False)\n",
    "# Instructor Answer: t, p = stats.ttest_ind(cars_2008_fe, cars_1999_fe)\n",
    "print(t, p/2)\n",
    "\n",
    "if p / 2 > alpha:\n",
    "    print('We fail to reject the null')\n",
    "elif t < 0:\n",
    "    print('We fail to reject the null')\n",
    "else:\n",
    "    print('We reject the null')"
   ]
  },
  {
   "cell_type": "markdown",
   "id": "bc7c1420",
   "metadata": {},
   "source": [
    "## b. Are compact cars more fuel-efficient than the average car?"
   ]
  },
  {
   "cell_type": "markdown",
   "id": "de8b77ee",
   "metadata": {},
   "source": [
    "H0 = Fuel efficiency in compact cars == the fuel efficiency the average car.\n",
    "\n",
    "HA = Fuel efficiency in compact cars != the fuel efficiency the average car."
   ]
  },
  {
   "cell_type": "code",
   "execution_count": 69,
   "id": "0d60a870",
   "metadata": {},
   "outputs": [
    {
     "name": "stdout",
     "output_type": "stream",
     "text": [
      "12.442876965772433\n",
      "23.652794548904602\n",
      "8.128810422808078 8.009030328061511e-13\n",
      "We reject the null\n"
     ]
    }
   ],
   "source": [
    "cars_compact_fe = mpg[mpg['class'] == 'compact'][['cty', 'hwy']].mean(axis=1)\n",
    "cars_average_fe = mpg[mpg['class'] != 'compact'][['cty', 'hwy']].mean(axis=1)\n",
    "'''\n",
    "Instructor answer: mean = mpg.avg_fuel.mean()'''\n",
    "print(cars_compact_fe.var())\n",
    "print(cars_average_fe.var())\n",
    "\n",
    "t, p = stats.ttest_ind(cars_compact_fe,cars_average_fe, equal_var=False)\n",
    "print(t, p/2)\n",
    "\n",
    "if p / 2 > alpha:\n",
    "    print('We fail to reject the null')\n",
    "elif t < 0: #Instructor answer: t > 0 since this is a one-tailed one sample test.\n",
    "    print('We fail to reject the null')\n",
    "else:\n",
    "    print('We reject the null')"
   ]
  },
  {
   "cell_type": "markdown",
   "id": "cff5a1d0",
   "metadata": {},
   "source": [
    "## c. Do manual cars get better gas mileage than automatic cars?"
   ]
  },
  {
   "cell_type": "markdown",
   "id": "e87fc33d",
   "metadata": {},
   "source": [
    "H0 = Fuel efficiency in manual cars == the fuel efficiency automatic cars.\n",
    "\n",
    "HA = Fuel efficiency in manual cars != the fuel efficiency automatic car.\n",
    "\n",
    "Note* practice correctly categorizing the tailed type test and the type of test to run."
   ]
  },
  {
   "cell_type": "code",
   "execution_count": 63,
   "id": "c1994446",
   "metadata": {},
   "outputs": [
    {
     "name": "stdout",
     "output_type": "stream",
     "text": [
      "26.635167464114826\n",
      "21.942777233382337\n"
     ]
    }
   ],
   "source": [
    "cars_manual_fe = mpg[mpg.trans.str.startswith('m')][['cty', 'hwy']].mean(axis=1)\n",
    "cars_auto_fe = mpg[mpg.trans.str.startswith('a')][['cty', 'hwy']].mean(axis=1)\n",
    "print(cars_manual_fe.var())\n",
    "print(cars_auto_fe.var())"
   ]
  },
  {
   "cell_type": "code",
   "execution_count": 71,
   "id": "a80fff92",
   "metadata": {},
   "outputs": [
    {
     "name": "stdout",
     "output_type": "stream",
     "text": [
      "4.443514012903072 8.976124499958947e-06\n",
      "We reject the null\n"
     ]
    }
   ],
   "source": [
    "t, p = stats.ttest_ind(cars_manual_fe, cars_auto_fe, equal_var=False)\n",
    "print(t, p/2)\n",
    "\n",
    "if p / 2 > alpha:\n",
    "    print('We fail to reject the null')\n",
    "elif t < 0:\n",
    "    print('We fail to reject the null')\n",
    "else:\n",
    "    print('We reject the null')"
   ]
  },
  {
   "cell_type": "code",
   "execution_count": null,
   "id": "a59783b4",
   "metadata": {},
   "outputs": [],
   "source": []
  }
 ],
 "metadata": {
  "kernelspec": {
   "display_name": "Python 3 (ipykernel)",
   "language": "python",
   "name": "python3"
  },
  "language_info": {
   "codemirror_mode": {
    "name": "ipython",
    "version": 3
   },
   "file_extension": ".py",
   "mimetype": "text/x-python",
   "name": "python",
   "nbconvert_exporter": "python",
   "pygments_lexer": "ipython3",
   "version": "3.10.9"
  }
 },
 "nbformat": 4,
 "nbformat_minor": 5
}
