{
 "cells": [
  {
   "cell_type": "markdown",
   "id": "4bf7832b",
   "metadata": {},
   "source": [
    "# Hypothesis Testing Exercises and Correlation Exercises"
   ]
  },
  {
   "cell_type": "code",
   "execution_count": 97,
   "id": "ddbac02e",
   "metadata": {},
   "outputs": [],
   "source": [
    "from scipy import stats\n",
    "import numpy as np\n",
    "import pandas as pd\n",
    "import matplotlib.pyplot as plt\n",
    "from pydataset import data\n",
    "import env\n",
    "import datetime"
   ]
  },
  {
   "cell_type": "markdown",
   "id": "36071b17",
   "metadata": {},
   "source": [
    "## 1. Answer with the type of test you would use (assume normal distribution):"
   ]
  },
  {
   "cell_type": "markdown",
   "id": "12771d19",
   "metadata": {},
   "source": [
    "### a. Is there a difference in grades of students on the second floor compared to grades of all students?"
   ]
  },
  {
   "cell_type": "markdown",
   "id": "dc370f54",
   "metadata": {},
   "source": [
    "Independent T-Test\n",
    "\n",
    "Instructor Answer: One sample t-test two tailed"
   ]
  },
  {
   "cell_type": "markdown",
   "id": "28c3f39a",
   "metadata": {},
   "source": [
    "### b. Are adults who drink milk taller than adults who dont drink milk?"
   ]
  },
  {
   "cell_type": "markdown",
   "id": "d682b6ab",
   "metadata": {},
   "source": [
    "One sample T-test\n",
    "\n",
    "Instructor answer: Independent one-tailed t-test "
   ]
  },
  {
   "cell_type": "markdown",
   "id": "d196e6fa",
   "metadata": {},
   "source": [
    "### c. Is the the price of gas higher in texas or in new mexico?"
   ]
  },
  {
   "cell_type": "markdown",
   "id": "b36d4934",
   "metadata": {},
   "source": [
    "One sample T-test\n",
    "\n",
    "Instructor Answer: Independent one-tailed t-test"
   ]
  },
  {
   "cell_type": "markdown",
   "id": "2459ca5a",
   "metadata": {},
   "source": [
    "### d. Are there differences in stress levels between students who take data science vs students who take web development vs students who take cloud academy?"
   ]
  },
  {
   "cell_type": "markdown",
   "id": "980f3db6",
   "metadata": {},
   "source": [
    "ANOVA test"
   ]
  },
  {
   "cell_type": "markdown",
   "id": "46cd4625",
   "metadata": {},
   "source": [
    "## 2. Ace Realty wants to determine whether the average time it takes to sell homes is different for its two offices. A sample of 40 sales from office #1 revealed a mean of 90 days and a standard deviation of 15 days. A sample of 50 sales from office #2 revealed a mean of 100 days and a standard deviation of 20 days. Use a .05 level of significance."
   ]
  },
  {
   "cell_type": "markdown",
   "id": "37ecc13e",
   "metadata": {},
   "source": [
    "H0 = The mean of length of time to sell a home at office A is == the mean of the length of time to sell home at office B.\n",
    "\n",
    "HA = The mean of length of time to sell a home at office A is != the mean of the length of time to sell home at office B.\n",
    "\n"
   ]
  },
  {
   "cell_type": "code",
   "execution_count": 16,
   "id": "907c45b6",
   "metadata": {},
   "outputs": [
    {
     "name": "stdout",
     "output_type": "stream",
     "text": [
      "146.80842818538014\n",
      "399.38322533367705\n"
     ]
    }
   ],
   "source": [
    "office_a = np.random.normal(90, 15, 40)\n",
    "office_b = np.random.normal(100, 20, 50)\n",
    "'''\n",
    "Instructor answer:office_1 = stats.norm(90, 15).rvs(40)\n",
    "                  office_2 = stats.norm(100,20).rvs(50)\n",
    "                  \n",
    "stat, p_val = stats.levene(office_1,office_2)\n",
    "if p_val < 0.05:\n",
    "    print('We can reject H0 ==> inequal variance')\n",
    "else:\n",
    "    print('We can refect H0 ==> equal variance')'''\n",
    "print(office_a.var())\n",
    "print(office_b.var())"
   ]
  },
  {
   "cell_type": "code",
   "execution_count": 72,
   "id": "9a3573c4",
   "metadata": {},
   "outputs": [
    {
     "name": "stdout",
     "output_type": "stream",
     "text": [
      "-2.5958751317255464 0.005582424000215237\n",
      "We fail to reject the null\n"
     ]
    }
   ],
   "source": [
    "alpha = .05\n",
    "t, p = stats.ttest_ind(office_a, office_b, equal_var=False)\n",
    "print(t, p/2)\n",
    "\n",
    "if p / 2 > alpha:\n",
    "    print('We fail to reject the null')\n",
    "elif t < 0:\n",
    "    print('We fail to reject the null')\n",
    "else:\n",
    "    print('We reject the null')"
   ]
  },
  {
   "cell_type": "code",
   "execution_count": 2,
   "id": "4e8277b4",
   "metadata": {},
   "outputs": [],
   "source": [
    "from pydataset import data"
   ]
  },
  {
   "cell_type": "markdown",
   "id": "75e31d1c",
   "metadata": {},
   "source": [
    "## 3. Load the mpg dataset and use it to answer the following questions:"
   ]
  },
  {
   "cell_type": "code",
   "execution_count": 25,
   "id": "9cdb5d8c",
   "metadata": {},
   "outputs": [
    {
     "data": {
      "text/html": [
       "<div>\n",
       "<style scoped>\n",
       "    .dataframe tbody tr th:only-of-type {\n",
       "        vertical-align: middle;\n",
       "    }\n",
       "\n",
       "    .dataframe tbody tr th {\n",
       "        vertical-align: top;\n",
       "    }\n",
       "\n",
       "    .dataframe thead th {\n",
       "        text-align: right;\n",
       "    }\n",
       "</style>\n",
       "<table border=\"1\" class=\"dataframe\">\n",
       "  <thead>\n",
       "    <tr style=\"text-align: right;\">\n",
       "      <th></th>\n",
       "      <th>manufacturer</th>\n",
       "      <th>model</th>\n",
       "      <th>displ</th>\n",
       "      <th>year</th>\n",
       "      <th>cyl</th>\n",
       "      <th>trans</th>\n",
       "      <th>drv</th>\n",
       "      <th>cty</th>\n",
       "      <th>hwy</th>\n",
       "      <th>fl</th>\n",
       "      <th>class</th>\n",
       "    </tr>\n",
       "  </thead>\n",
       "  <tbody>\n",
       "    <tr>\n",
       "      <th>1</th>\n",
       "      <td>audi</td>\n",
       "      <td>a4</td>\n",
       "      <td>1.8</td>\n",
       "      <td>1999</td>\n",
       "      <td>4</td>\n",
       "      <td>auto(l5)</td>\n",
       "      <td>f</td>\n",
       "      <td>18</td>\n",
       "      <td>29</td>\n",
       "      <td>p</td>\n",
       "      <td>compact</td>\n",
       "    </tr>\n",
       "    <tr>\n",
       "      <th>2</th>\n",
       "      <td>audi</td>\n",
       "      <td>a4</td>\n",
       "      <td>1.8</td>\n",
       "      <td>1999</td>\n",
       "      <td>4</td>\n",
       "      <td>manual(m5)</td>\n",
       "      <td>f</td>\n",
       "      <td>21</td>\n",
       "      <td>29</td>\n",
       "      <td>p</td>\n",
       "      <td>compact</td>\n",
       "    </tr>\n",
       "    <tr>\n",
       "      <th>3</th>\n",
       "      <td>audi</td>\n",
       "      <td>a4</td>\n",
       "      <td>2.0</td>\n",
       "      <td>2008</td>\n",
       "      <td>4</td>\n",
       "      <td>manual(m6)</td>\n",
       "      <td>f</td>\n",
       "      <td>20</td>\n",
       "      <td>31</td>\n",
       "      <td>p</td>\n",
       "      <td>compact</td>\n",
       "    </tr>\n",
       "    <tr>\n",
       "      <th>4</th>\n",
       "      <td>audi</td>\n",
       "      <td>a4</td>\n",
       "      <td>2.0</td>\n",
       "      <td>2008</td>\n",
       "      <td>4</td>\n",
       "      <td>auto(av)</td>\n",
       "      <td>f</td>\n",
       "      <td>21</td>\n",
       "      <td>30</td>\n",
       "      <td>p</td>\n",
       "      <td>compact</td>\n",
       "    </tr>\n",
       "    <tr>\n",
       "      <th>5</th>\n",
       "      <td>audi</td>\n",
       "      <td>a4</td>\n",
       "      <td>2.8</td>\n",
       "      <td>1999</td>\n",
       "      <td>6</td>\n",
       "      <td>auto(l5)</td>\n",
       "      <td>f</td>\n",
       "      <td>16</td>\n",
       "      <td>26</td>\n",
       "      <td>p</td>\n",
       "      <td>compact</td>\n",
       "    </tr>\n",
       "    <tr>\n",
       "      <th>...</th>\n",
       "      <td>...</td>\n",
       "      <td>...</td>\n",
       "      <td>...</td>\n",
       "      <td>...</td>\n",
       "      <td>...</td>\n",
       "      <td>...</td>\n",
       "      <td>...</td>\n",
       "      <td>...</td>\n",
       "      <td>...</td>\n",
       "      <td>...</td>\n",
       "      <td>...</td>\n",
       "    </tr>\n",
       "    <tr>\n",
       "      <th>230</th>\n",
       "      <td>volkswagen</td>\n",
       "      <td>passat</td>\n",
       "      <td>2.0</td>\n",
       "      <td>2008</td>\n",
       "      <td>4</td>\n",
       "      <td>auto(s6)</td>\n",
       "      <td>f</td>\n",
       "      <td>19</td>\n",
       "      <td>28</td>\n",
       "      <td>p</td>\n",
       "      <td>midsize</td>\n",
       "    </tr>\n",
       "    <tr>\n",
       "      <th>231</th>\n",
       "      <td>volkswagen</td>\n",
       "      <td>passat</td>\n",
       "      <td>2.0</td>\n",
       "      <td>2008</td>\n",
       "      <td>4</td>\n",
       "      <td>manual(m6)</td>\n",
       "      <td>f</td>\n",
       "      <td>21</td>\n",
       "      <td>29</td>\n",
       "      <td>p</td>\n",
       "      <td>midsize</td>\n",
       "    </tr>\n",
       "    <tr>\n",
       "      <th>232</th>\n",
       "      <td>volkswagen</td>\n",
       "      <td>passat</td>\n",
       "      <td>2.8</td>\n",
       "      <td>1999</td>\n",
       "      <td>6</td>\n",
       "      <td>auto(l5)</td>\n",
       "      <td>f</td>\n",
       "      <td>16</td>\n",
       "      <td>26</td>\n",
       "      <td>p</td>\n",
       "      <td>midsize</td>\n",
       "    </tr>\n",
       "    <tr>\n",
       "      <th>233</th>\n",
       "      <td>volkswagen</td>\n",
       "      <td>passat</td>\n",
       "      <td>2.8</td>\n",
       "      <td>1999</td>\n",
       "      <td>6</td>\n",
       "      <td>manual(m5)</td>\n",
       "      <td>f</td>\n",
       "      <td>18</td>\n",
       "      <td>26</td>\n",
       "      <td>p</td>\n",
       "      <td>midsize</td>\n",
       "    </tr>\n",
       "    <tr>\n",
       "      <th>234</th>\n",
       "      <td>volkswagen</td>\n",
       "      <td>passat</td>\n",
       "      <td>3.6</td>\n",
       "      <td>2008</td>\n",
       "      <td>6</td>\n",
       "      <td>auto(s6)</td>\n",
       "      <td>f</td>\n",
       "      <td>17</td>\n",
       "      <td>26</td>\n",
       "      <td>p</td>\n",
       "      <td>midsize</td>\n",
       "    </tr>\n",
       "  </tbody>\n",
       "</table>\n",
       "<p>234 rows × 11 columns</p>\n",
       "</div>"
      ],
      "text/plain": [
       "    manufacturer   model  displ  year  cyl       trans drv  cty  hwy fl  \\\n",
       "1           audi      a4    1.8  1999    4    auto(l5)   f   18   29  p   \n",
       "2           audi      a4    1.8  1999    4  manual(m5)   f   21   29  p   \n",
       "3           audi      a4    2.0  2008    4  manual(m6)   f   20   31  p   \n",
       "4           audi      a4    2.0  2008    4    auto(av)   f   21   30  p   \n",
       "5           audi      a4    2.8  1999    6    auto(l5)   f   16   26  p   \n",
       "..           ...     ...    ...   ...  ...         ...  ..  ...  ... ..   \n",
       "230   volkswagen  passat    2.0  2008    4    auto(s6)   f   19   28  p   \n",
       "231   volkswagen  passat    2.0  2008    4  manual(m6)   f   21   29  p   \n",
       "232   volkswagen  passat    2.8  1999    6    auto(l5)   f   16   26  p   \n",
       "233   volkswagen  passat    2.8  1999    6  manual(m5)   f   18   26  p   \n",
       "234   volkswagen  passat    3.6  2008    6    auto(s6)   f   17   26  p   \n",
       "\n",
       "       class  \n",
       "1    compact  \n",
       "2    compact  \n",
       "3    compact  \n",
       "4    compact  \n",
       "5    compact  \n",
       "..       ...  \n",
       "230  midsize  \n",
       "231  midsize  \n",
       "232  midsize  \n",
       "233  midsize  \n",
       "234  midsize  \n",
       "\n",
       "[234 rows x 11 columns]"
      ]
     },
     "execution_count": 25,
     "metadata": {},
     "output_type": "execute_result"
    }
   ],
   "source": [
    "mpg = data('mpg')\n",
    "mpg"
   ]
  },
  {
   "cell_type": "markdown",
   "id": "97fbe9e0",
   "metadata": {},
   "source": [
    "## a. Is there a difference in fuel-efficiency in cars from 2008 vs 1999?"
   ]
  },
  {
   "cell_type": "markdown",
   "id": "8df48bd7",
   "metadata": {},
   "source": [
    "H0 = Fuel efficiency in cars from 2008 == the fuel efficiency of cars in 1999.\n",
    "\n",
    "HA = Fuel efficiency in cars from 2008 != the fuel efficiency of cars in 1999.\n",
    "\n",
    "There are two measures of fuel efficiency in mpg: city and highway. This hypothesis will measure the average of these two values."
   ]
  },
  {
   "cell_type": "code",
   "execution_count": 78,
   "id": "014f24c8",
   "metadata": {},
   "outputs": [
    {
     "name": "stdout",
     "output_type": "stream",
     "text": [
      "24.097480106100797\n",
      "27.122605363984682\n"
     ]
    }
   ],
   "source": [
    "cars_2008_fe = mpg[mpg.year == 2008][['cty', 'hwy']].mean(axis=1)\n",
    "cars_1999_fe = mpg[mpg.year == 1999][['cty', 'hwy']].mean(axis=1)\n",
    "'''\n",
    "Instructor Answer:\n",
    "Harmonic mean is used for rates.\n",
    "mpg['avg_fe'] = stats.hmean(mpg[['city', 'hwy']], axis =1)'''\n",
    "print(cars_2008_fe.var())\n",
    "print(cars_1999_fe.var())\n",
    "\n",
    "# Instructor Answer: variance does not have to be exact, just needs to be close"
   ]
  },
  {
   "cell_type": "code",
   "execution_count": 77,
   "id": "7efb35f2",
   "metadata": {},
   "outputs": [
    {
     "name": "stdout",
     "output_type": "stream",
     "text": [
      "-0.21960177245940962 0.4131872020161789\n",
      "We fail to reject the null\n"
     ]
    }
   ],
   "source": [
    "alpha = .05\n",
    "t, p = stats.ttest_ind(cars_2008_fe, cars_1999_fe, equal_var=False)\n",
    "# Instructor Answer: t, p = stats.ttest_ind(cars_2008_fe, cars_1999_fe)\n",
    "print(t, p/2)\n",
    "\n",
    "if p / 2 > alpha:\n",
    "    print('We fail to reject the null')\n",
    "elif t < 0:\n",
    "    print('We fail to reject the null')\n",
    "else:\n",
    "    print('We reject the null')"
   ]
  },
  {
   "cell_type": "markdown",
   "id": "bc7c1420",
   "metadata": {},
   "source": [
    "## b. Are compact cars more fuel-efficient than the average car?"
   ]
  },
  {
   "cell_type": "markdown",
   "id": "de8b77ee",
   "metadata": {},
   "source": [
    "H0 = Fuel efficiency in compact cars == the fuel efficiency the average car.\n",
    "\n",
    "HA = Fuel efficiency in compact cars != the fuel efficiency the average car."
   ]
  },
  {
   "cell_type": "code",
   "execution_count": 69,
   "id": "0d60a870",
   "metadata": {},
   "outputs": [
    {
     "name": "stdout",
     "output_type": "stream",
     "text": [
      "12.442876965772433\n",
      "23.652794548904602\n",
      "8.128810422808078 8.009030328061511e-13\n",
      "We reject the null\n"
     ]
    }
   ],
   "source": [
    "cars_compact_fe = mpg[mpg['class'] == 'compact'][['cty', 'hwy']].mean(axis=1)\n",
    "cars_average_fe = mpg[mpg['class'] != 'compact'][['cty', 'hwy']].mean(axis=1)\n",
    "'''\n",
    "Instructor answer: mean = mpg.avg_fuel.mean()'''\n",
    "print(cars_compact_fe.var())\n",
    "print(cars_average_fe.var())\n",
    "\n",
    "t, p = stats.ttest_ind(cars_compact_fe,cars_average_fe, equal_var=False)\n",
    "print(t, p/2)\n",
    "\n",
    "if p / 2 > alpha:\n",
    "    print('We fail to reject the null')\n",
    "elif t < 0: #Instructor answer: t > 0 since this is a one-tailed one sample test.\n",
    "    print('We fail to reject the null')\n",
    "else:\n",
    "    print('We reject the null')"
   ]
  },
  {
   "cell_type": "markdown",
   "id": "cff5a1d0",
   "metadata": {},
   "source": [
    "## c. Do manual cars get better gas mileage than automatic cars?"
   ]
  },
  {
   "cell_type": "markdown",
   "id": "e87fc33d",
   "metadata": {},
   "source": [
    "H0 = Fuel efficiency in manual cars == the fuel efficiency automatic cars.\n",
    "\n",
    "HA = Fuel efficiency in manual cars != the fuel efficiency automatic car.\n",
    "\n",
    "Note* practice correctly categorizing the tailed type test and the type of test to run."
   ]
  },
  {
   "cell_type": "code",
   "execution_count": 63,
   "id": "c1994446",
   "metadata": {},
   "outputs": [
    {
     "name": "stdout",
     "output_type": "stream",
     "text": [
      "26.635167464114826\n",
      "21.942777233382337\n"
     ]
    }
   ],
   "source": [
    "cars_manual_fe = mpg[mpg.trans.str.startswith('m')][['cty', 'hwy']].mean(axis=1)\n",
    "cars_auto_fe = mpg[mpg.trans.str.startswith('a')][['cty', 'hwy']].mean(axis=1)\n",
    "print(cars_manual_fe.var())\n",
    "print(cars_auto_fe.var())"
   ]
  },
  {
   "cell_type": "code",
   "execution_count": 71,
   "id": "a80fff92",
   "metadata": {},
   "outputs": [
    {
     "name": "stdout",
     "output_type": "stream",
     "text": [
      "4.443514012903072 8.976124499958947e-06\n",
      "We reject the null\n"
     ]
    }
   ],
   "source": [
    "t, p = stats.ttest_ind(cars_manual_fe, cars_auto_fe, equal_var=False)\n",
    "print(t, p/2)\n",
    "\n",
    "if p / 2 > alpha:\n",
    "    print('We fail to reject the null')\n",
    "elif t < 0:\n",
    "    print('We fail to reject the null')\n",
    "else:\n",
    "    print('We reject the null')"
   ]
  },
  {
   "cell_type": "code",
   "execution_count": null,
   "id": "a59783b4",
   "metadata": {},
   "outputs": [],
   "source": []
  },
  {
   "cell_type": "markdown",
   "id": "7ef3a965",
   "metadata": {},
   "source": [
    "# Correlation Exercises"
   ]
  },
  {
   "cell_type": "markdown",
   "id": "b1faf6f1",
   "metadata": {},
   "source": [
    "## 1. Answer with the type of stats test you would use (assume normal distribution):"
   ]
  },
  {
   "cell_type": "markdown",
   "id": "ce7b0f0a",
   "metadata": {},
   "source": [
    "### a. Is there a relationship between the length of your arm and the length of your foot?"
   ]
  },
  {
   "cell_type": "code",
   "execution_count": null,
   "id": "b71d6279",
   "metadata": {},
   "outputs": [],
   "source": [
    "Pearson r"
   ]
  },
  {
   "cell_type": "markdown",
   "id": "b1c81cf3",
   "metadata": {},
   "source": [
    "### b. Do guys and gals quit their jobs at the same rate?"
   ]
  },
  {
   "cell_type": "markdown",
   "id": "61195020",
   "metadata": {},
   "source": [
    "Spearman r\n",
    "\n",
    "Instructor answer: $ \\chi ^ 2$"
   ]
  },
  {
   "cell_type": "markdown",
   "id": "c1bbba8e",
   "metadata": {},
   "source": [
    "### c. Does the length of time of the lecture correlate with a students grade?"
   ]
  },
  {
   "cell_type": "code",
   "execution_count": null,
   "id": "abf3828c",
   "metadata": {},
   "outputs": [],
   "source": [
    "Pearson r"
   ]
  },
  {
   "cell_type": "markdown",
   "id": "177607f1",
   "metadata": {},
   "source": [
    "## 2. Use the telco_churn data."
   ]
  },
  {
   "cell_type": "code",
   "execution_count": 26,
   "id": "cd2f6663",
   "metadata": {},
   "outputs": [
    {
     "data": {
      "text/html": [
       "<div>\n",
       "<style scoped>\n",
       "    .dataframe tbody tr th:only-of-type {\n",
       "        vertical-align: middle;\n",
       "    }\n",
       "\n",
       "    .dataframe tbody tr th {\n",
       "        vertical-align: top;\n",
       "    }\n",
       "\n",
       "    .dataframe thead th {\n",
       "        text-align: right;\n",
       "    }\n",
       "</style>\n",
       "<table border=\"1\" class=\"dataframe\">\n",
       "  <thead>\n",
       "    <tr style=\"text-align: right;\">\n",
       "      <th></th>\n",
       "      <th>customer_id</th>\n",
       "      <th>gender</th>\n",
       "      <th>senior_citizen</th>\n",
       "      <th>partner</th>\n",
       "      <th>dependents</th>\n",
       "      <th>tenure</th>\n",
       "      <th>phone_service</th>\n",
       "      <th>multiple_lines</th>\n",
       "      <th>internet_service_type_id</th>\n",
       "      <th>online_security</th>\n",
       "      <th>...</th>\n",
       "      <th>device_protection</th>\n",
       "      <th>tech_support</th>\n",
       "      <th>streaming_tv</th>\n",
       "      <th>streaming_movies</th>\n",
       "      <th>contract_type_id</th>\n",
       "      <th>paperless_billing</th>\n",
       "      <th>payment_type_id</th>\n",
       "      <th>monthly_charges</th>\n",
       "      <th>total_charges</th>\n",
       "      <th>churn</th>\n",
       "    </tr>\n",
       "  </thead>\n",
       "  <tbody>\n",
       "    <tr>\n",
       "      <th>0</th>\n",
       "      <td>0002-ORFBO</td>\n",
       "      <td>Female</td>\n",
       "      <td>0</td>\n",
       "      <td>Yes</td>\n",
       "      <td>Yes</td>\n",
       "      <td>9</td>\n",
       "      <td>Yes</td>\n",
       "      <td>No</td>\n",
       "      <td>1</td>\n",
       "      <td>No</td>\n",
       "      <td>...</td>\n",
       "      <td>No</td>\n",
       "      <td>Yes</td>\n",
       "      <td>Yes</td>\n",
       "      <td>No</td>\n",
       "      <td>2</td>\n",
       "      <td>Yes</td>\n",
       "      <td>2</td>\n",
       "      <td>65.6</td>\n",
       "      <td>593.3</td>\n",
       "      <td>No</td>\n",
       "    </tr>\n",
       "    <tr>\n",
       "      <th>1</th>\n",
       "      <td>0003-MKNFE</td>\n",
       "      <td>Male</td>\n",
       "      <td>0</td>\n",
       "      <td>No</td>\n",
       "      <td>No</td>\n",
       "      <td>9</td>\n",
       "      <td>Yes</td>\n",
       "      <td>Yes</td>\n",
       "      <td>1</td>\n",
       "      <td>No</td>\n",
       "      <td>...</td>\n",
       "      <td>No</td>\n",
       "      <td>No</td>\n",
       "      <td>No</td>\n",
       "      <td>Yes</td>\n",
       "      <td>1</td>\n",
       "      <td>No</td>\n",
       "      <td>2</td>\n",
       "      <td>59.9</td>\n",
       "      <td>542.4</td>\n",
       "      <td>No</td>\n",
       "    </tr>\n",
       "    <tr>\n",
       "      <th>2</th>\n",
       "      <td>0004-TLHLJ</td>\n",
       "      <td>Male</td>\n",
       "      <td>0</td>\n",
       "      <td>No</td>\n",
       "      <td>No</td>\n",
       "      <td>4</td>\n",
       "      <td>Yes</td>\n",
       "      <td>No</td>\n",
       "      <td>2</td>\n",
       "      <td>No</td>\n",
       "      <td>...</td>\n",
       "      <td>Yes</td>\n",
       "      <td>No</td>\n",
       "      <td>No</td>\n",
       "      <td>No</td>\n",
       "      <td>1</td>\n",
       "      <td>Yes</td>\n",
       "      <td>1</td>\n",
       "      <td>73.9</td>\n",
       "      <td>280.85</td>\n",
       "      <td>Yes</td>\n",
       "    </tr>\n",
       "    <tr>\n",
       "      <th>3</th>\n",
       "      <td>0011-IGKFF</td>\n",
       "      <td>Male</td>\n",
       "      <td>1</td>\n",
       "      <td>Yes</td>\n",
       "      <td>No</td>\n",
       "      <td>13</td>\n",
       "      <td>Yes</td>\n",
       "      <td>No</td>\n",
       "      <td>2</td>\n",
       "      <td>No</td>\n",
       "      <td>...</td>\n",
       "      <td>Yes</td>\n",
       "      <td>No</td>\n",
       "      <td>Yes</td>\n",
       "      <td>Yes</td>\n",
       "      <td>1</td>\n",
       "      <td>Yes</td>\n",
       "      <td>1</td>\n",
       "      <td>98.0</td>\n",
       "      <td>1237.85</td>\n",
       "      <td>Yes</td>\n",
       "    </tr>\n",
       "    <tr>\n",
       "      <th>4</th>\n",
       "      <td>0013-EXCHZ</td>\n",
       "      <td>Female</td>\n",
       "      <td>1</td>\n",
       "      <td>Yes</td>\n",
       "      <td>No</td>\n",
       "      <td>3</td>\n",
       "      <td>Yes</td>\n",
       "      <td>No</td>\n",
       "      <td>2</td>\n",
       "      <td>No</td>\n",
       "      <td>...</td>\n",
       "      <td>No</td>\n",
       "      <td>Yes</td>\n",
       "      <td>Yes</td>\n",
       "      <td>No</td>\n",
       "      <td>1</td>\n",
       "      <td>Yes</td>\n",
       "      <td>2</td>\n",
       "      <td>83.9</td>\n",
       "      <td>267.4</td>\n",
       "      <td>Yes</td>\n",
       "    </tr>\n",
       "  </tbody>\n",
       "</table>\n",
       "<p>5 rows × 21 columns</p>\n",
       "</div>"
      ],
      "text/plain": [
       "  customer_id  gender  senior_citizen partner dependents  tenure  \\\n",
       "0  0002-ORFBO  Female               0     Yes        Yes       9   \n",
       "1  0003-MKNFE    Male               0      No         No       9   \n",
       "2  0004-TLHLJ    Male               0      No         No       4   \n",
       "3  0011-IGKFF    Male               1     Yes         No      13   \n",
       "4  0013-EXCHZ  Female               1     Yes         No       3   \n",
       "\n",
       "  phone_service multiple_lines  internet_service_type_id online_security  ...  \\\n",
       "0           Yes             No                         1              No  ...   \n",
       "1           Yes            Yes                         1              No  ...   \n",
       "2           Yes             No                         2              No  ...   \n",
       "3           Yes             No                         2              No  ...   \n",
       "4           Yes             No                         2              No  ...   \n",
       "\n",
       "  device_protection tech_support streaming_tv streaming_movies  \\\n",
       "0                No          Yes          Yes               No   \n",
       "1                No           No           No              Yes   \n",
       "2               Yes           No           No               No   \n",
       "3               Yes           No          Yes              Yes   \n",
       "4                No          Yes          Yes               No   \n",
       "\n",
       "  contract_type_id  paperless_billing payment_type_id  monthly_charges  \\\n",
       "0                2                Yes               2             65.6   \n",
       "1                1                 No               2             59.9   \n",
       "2                1                Yes               1             73.9   \n",
       "3                1                Yes               1             98.0   \n",
       "4                1                Yes               2             83.9   \n",
       "\n",
       "   total_charges churn  \n",
       "0          593.3    No  \n",
       "1          542.4    No  \n",
       "2         280.85   Yes  \n",
       "3        1237.85   Yes  \n",
       "4          267.4   Yes  \n",
       "\n",
       "[5 rows x 21 columns]"
      ]
     },
     "execution_count": 26,
     "metadata": {},
     "output_type": "execute_result"
    }
   ],
   "source": [
    "url = env.get_db_url('telco_churn')\n",
    "telco = pd.read_sql('SELECT * FROM customers',url)\n",
    "telco.head()\n"
   ]
  },
  {
   "cell_type": "markdown",
   "id": "ac2ca177",
   "metadata": {},
   "source": [
    "### a. Does tenure correlate with monthly charges?"
   ]
  },
  {
   "cell_type": "markdown",
   "id": "b0eb055e",
   "metadata": {},
   "source": [
    "H0 = There is no linear correlation between tenure and monthly charges.\n",
    "\n",
    "HA = There is a linear correlation between tenure and monthly charges."
   ]
  },
  {
   "cell_type": "code",
   "execution_count": 25,
   "id": "1169701f",
   "metadata": {},
   "outputs": [],
   "source": [
    "n = telco.shape[0]\n",
    "conf_interval = .95\n",
    "alpha = 1 - conf_interval\n",
    "degf = n - 2"
   ]
  },
  {
   "cell_type": "code",
   "execution_count": 89,
   "id": "44fb210c",
   "metadata": {},
   "outputs": [
    {
     "data": {
      "text/plain": [
       "0.24789985628615005"
      ]
     },
     "execution_count": 89,
     "metadata": {},
     "output_type": "execute_result"
    }
   ],
   "source": [
    "# calculate the Pearson Correlation coefficient\n",
    "x = telco.tenure\n",
    "y = telco.monthly_charges\n",
    "\n",
    "def stdev(x):\n",
    "    variance = ((x - x.mean()) ** 2).sum() / n\n",
    "    return np.sqrt(variance)\n",
    "\n",
    "r_xy = (((x - x.mean()) * (y - y.mean())).sum() / n) / (stdev(x) * stdev (y))\n",
    "r_xy"
   ]
  },
  {
   "cell_type": "code",
   "execution_count": 33,
   "id": "34e88b3a",
   "metadata": {},
   "outputs": [
    {
     "data": {
      "text/plain": [
       "21.471666051880586"
      ]
     },
     "execution_count": 33,
     "metadata": {},
     "output_type": "execute_result"
    }
   ],
   "source": [
    "# find the t-value\n",
    "t = (r_xy * np.sqrt(n-2)) / np.sqrt(1 - r_xy**2)\n",
    "t"
   ]
  },
  {
   "cell_type": "code",
   "execution_count": 35,
   "id": "8c4bd61e",
   "metadata": {},
   "outputs": [
    {
     "data": {
      "text/plain": [
       "True"
      ]
     },
     "execution_count": 35,
     "metadata": {},
     "output_type": "execute_result"
    }
   ],
   "source": [
    "# find the p-value\n",
    "p = stats.t.sf(t, df=degf) * 2\n",
    "p\n",
    "p < alpha"
   ]
  },
  {
   "cell_type": "code",
   "execution_count": 140,
   "id": "f3b59d8c",
   "metadata": {},
   "outputs": [
    {
     "name": "stdout",
     "output_type": "stream",
     "text": [
      "We reject the null\n"
     ]
    },
    {
     "data": {
      "text/plain": [
       "(0.3064625613186077, 0.0)"
      ]
     },
     "execution_count": 140,
     "metadata": {},
     "output_type": "execute_result"
    }
   ],
   "source": [
    "r, p = stats.pearsonr(x,y)\n",
    "r,p\n",
    "p<alpha\n",
    "print('We reject the null')\n",
    "r,p"
   ]
  },
  {
   "cell_type": "markdown",
   "id": "d040f57d",
   "metadata": {},
   "source": [
    "### b. Total charges?"
   ]
  },
  {
   "cell_type": "code",
   "execution_count": 83,
   "id": "62612403",
   "metadata": {},
   "outputs": [],
   "source": [
    "#x = telco.tenure\n",
    "#y = telco.total_charges.str.strip().replace(\"''\", \"\").astype(float)\n",
    "\n",
    "r,p = stats.pearsonr(x,y)\n"
   ]
  },
  {
   "cell_type": "markdown",
   "id": "51b64ae0",
   "metadata": {},
   "source": [
    "### c. What happens if you control for phone and internet service?"
   ]
  },
  {
   "cell_type": "markdown",
   "id": "138f19e9",
   "metadata": {},
   "source": [
    "H0 = There is no linear correlation between customers' that have phone and internet service tenure and monthly charges.\n",
    "\n",
    "HA = There is a linear correlation between customers' that have phone and internet service tenure and monthly charges."
   ]
  },
  {
   "cell_type": "code",
   "execution_count": 76,
   "id": "a8f21ca1",
   "metadata": {},
   "outputs": [
    {
     "data": {
      "text/html": [
       "<div>\n",
       "<style scoped>\n",
       "    .dataframe tbody tr th:only-of-type {\n",
       "        vertical-align: middle;\n",
       "    }\n",
       "\n",
       "    .dataframe tbody tr th {\n",
       "        vertical-align: top;\n",
       "    }\n",
       "\n",
       "    .dataframe thead th {\n",
       "        text-align: right;\n",
       "    }\n",
       "</style>\n",
       "<table border=\"1\" class=\"dataframe\">\n",
       "  <thead>\n",
       "    <tr style=\"text-align: right;\">\n",
       "      <th></th>\n",
       "      <th>customer_id</th>\n",
       "      <th>gender</th>\n",
       "      <th>senior_citizen</th>\n",
       "      <th>partner</th>\n",
       "      <th>dependents</th>\n",
       "      <th>tenure</th>\n",
       "      <th>phone_service</th>\n",
       "      <th>multiple_lines</th>\n",
       "      <th>internet_service_type_id</th>\n",
       "      <th>online_security</th>\n",
       "      <th>...</th>\n",
       "      <th>streaming_tv</th>\n",
       "      <th>streaming_movies</th>\n",
       "      <th>contract_type_id</th>\n",
       "      <th>paperless_billing</th>\n",
       "      <th>payment_type_id</th>\n",
       "      <th>monthly_charges</th>\n",
       "      <th>total_charges</th>\n",
       "      <th>churn</th>\n",
       "      <th>internet_service_type_id</th>\n",
       "      <th>internet_service_type</th>\n",
       "    </tr>\n",
       "  </thead>\n",
       "  <tbody>\n",
       "    <tr>\n",
       "      <th>0</th>\n",
       "      <td>0002-ORFBO</td>\n",
       "      <td>Female</td>\n",
       "      <td>0</td>\n",
       "      <td>Yes</td>\n",
       "      <td>Yes</td>\n",
       "      <td>9</td>\n",
       "      <td>Yes</td>\n",
       "      <td>No</td>\n",
       "      <td>1</td>\n",
       "      <td>No</td>\n",
       "      <td>...</td>\n",
       "      <td>Yes</td>\n",
       "      <td>No</td>\n",
       "      <td>2</td>\n",
       "      <td>Yes</td>\n",
       "      <td>2</td>\n",
       "      <td>65.6</td>\n",
       "      <td>593.3</td>\n",
       "      <td>No</td>\n",
       "      <td>1</td>\n",
       "      <td>DSL</td>\n",
       "    </tr>\n",
       "    <tr>\n",
       "      <th>1</th>\n",
       "      <td>0003-MKNFE</td>\n",
       "      <td>Male</td>\n",
       "      <td>0</td>\n",
       "      <td>No</td>\n",
       "      <td>No</td>\n",
       "      <td>9</td>\n",
       "      <td>Yes</td>\n",
       "      <td>Yes</td>\n",
       "      <td>1</td>\n",
       "      <td>No</td>\n",
       "      <td>...</td>\n",
       "      <td>No</td>\n",
       "      <td>Yes</td>\n",
       "      <td>1</td>\n",
       "      <td>No</td>\n",
       "      <td>2</td>\n",
       "      <td>59.9</td>\n",
       "      <td>542.4</td>\n",
       "      <td>No</td>\n",
       "      <td>1</td>\n",
       "      <td>DSL</td>\n",
       "    </tr>\n",
       "    <tr>\n",
       "      <th>2</th>\n",
       "      <td>0004-TLHLJ</td>\n",
       "      <td>Male</td>\n",
       "      <td>0</td>\n",
       "      <td>No</td>\n",
       "      <td>No</td>\n",
       "      <td>4</td>\n",
       "      <td>Yes</td>\n",
       "      <td>No</td>\n",
       "      <td>2</td>\n",
       "      <td>No</td>\n",
       "      <td>...</td>\n",
       "      <td>No</td>\n",
       "      <td>No</td>\n",
       "      <td>1</td>\n",
       "      <td>Yes</td>\n",
       "      <td>1</td>\n",
       "      <td>73.9</td>\n",
       "      <td>280.85</td>\n",
       "      <td>Yes</td>\n",
       "      <td>2</td>\n",
       "      <td>Fiber optic</td>\n",
       "    </tr>\n",
       "    <tr>\n",
       "      <th>3</th>\n",
       "      <td>0011-IGKFF</td>\n",
       "      <td>Male</td>\n",
       "      <td>1</td>\n",
       "      <td>Yes</td>\n",
       "      <td>No</td>\n",
       "      <td>13</td>\n",
       "      <td>Yes</td>\n",
       "      <td>No</td>\n",
       "      <td>2</td>\n",
       "      <td>No</td>\n",
       "      <td>...</td>\n",
       "      <td>Yes</td>\n",
       "      <td>Yes</td>\n",
       "      <td>1</td>\n",
       "      <td>Yes</td>\n",
       "      <td>1</td>\n",
       "      <td>98.0</td>\n",
       "      <td>1237.85</td>\n",
       "      <td>Yes</td>\n",
       "      <td>2</td>\n",
       "      <td>Fiber optic</td>\n",
       "    </tr>\n",
       "    <tr>\n",
       "      <th>4</th>\n",
       "      <td>0013-EXCHZ</td>\n",
       "      <td>Female</td>\n",
       "      <td>1</td>\n",
       "      <td>Yes</td>\n",
       "      <td>No</td>\n",
       "      <td>3</td>\n",
       "      <td>Yes</td>\n",
       "      <td>No</td>\n",
       "      <td>2</td>\n",
       "      <td>No</td>\n",
       "      <td>...</td>\n",
       "      <td>Yes</td>\n",
       "      <td>No</td>\n",
       "      <td>1</td>\n",
       "      <td>Yes</td>\n",
       "      <td>2</td>\n",
       "      <td>83.9</td>\n",
       "      <td>267.4</td>\n",
       "      <td>Yes</td>\n",
       "      <td>2</td>\n",
       "      <td>Fiber optic</td>\n",
       "    </tr>\n",
       "  </tbody>\n",
       "</table>\n",
       "<p>5 rows × 23 columns</p>\n",
       "</div>"
      ],
      "text/plain": [
       "  customer_id  gender  senior_citizen partner dependents  tenure  \\\n",
       "0  0002-ORFBO  Female               0     Yes        Yes       9   \n",
       "1  0003-MKNFE    Male               0      No         No       9   \n",
       "2  0004-TLHLJ    Male               0      No         No       4   \n",
       "3  0011-IGKFF    Male               1     Yes         No      13   \n",
       "4  0013-EXCHZ  Female               1     Yes         No       3   \n",
       "\n",
       "  phone_service multiple_lines  internet_service_type_id online_security  ...  \\\n",
       "0           Yes             No                         1              No  ...   \n",
       "1           Yes            Yes                         1              No  ...   \n",
       "2           Yes             No                         2              No  ...   \n",
       "3           Yes             No                         2              No  ...   \n",
       "4           Yes             No                         2              No  ...   \n",
       "\n",
       "  streaming_tv streaming_movies contract_type_id paperless_billing  \\\n",
       "0          Yes               No                2               Yes   \n",
       "1           No              Yes                1                No   \n",
       "2           No               No                1               Yes   \n",
       "3          Yes              Yes                1               Yes   \n",
       "4          Yes               No                1               Yes   \n",
       "\n",
       "  payment_type_id  monthly_charges total_charges  churn  \\\n",
       "0               2             65.6         593.3     No   \n",
       "1               2             59.9         542.4     No   \n",
       "2               1             73.9        280.85    Yes   \n",
       "3               1             98.0       1237.85    Yes   \n",
       "4               2             83.9         267.4    Yes   \n",
       "\n",
       "   internet_service_type_id internet_service_type  \n",
       "0                         1                   DSL  \n",
       "1                         1                   DSL  \n",
       "2                         2           Fiber optic  \n",
       "3                         2           Fiber optic  \n",
       "4                         2           Fiber optic  \n",
       "\n",
       "[5 rows x 23 columns]"
      ]
     },
     "execution_count": 76,
     "metadata": {},
     "output_type": "execute_result"
    }
   ],
   "source": [
    "sql = '''\n",
    "SELECT *\n",
    "FROM customers\n",
    "JOIN internet_service_types ON customers.internet_service_type_id=internet_service_types.internet_service_type_id'''\n",
    "telco_internet = pd.read_sql(sql,url)\n",
    "telco_internet.head()"
   ]
  },
  {
   "cell_type": "code",
   "execution_count": 82,
   "id": "a28f4273",
   "metadata": {},
   "outputs": [
    {
     "name": "stderr",
     "output_type": "stream",
     "text": [
      "/var/folders/q0/ltx9pcc929qfz0h96j9rxxk80000gp/T/ipykernel_28305/3307999888.py:1: UserWarning: Boolean Series key will be reindexed to match DataFrame index.\n",
      "  x = telco_internet[telco_internet.internet_service_type != 'None'][telco_internet.phone_service == 'Yes'].tenure\n",
      "/var/folders/q0/ltx9pcc929qfz0h96j9rxxk80000gp/T/ipykernel_28305/3307999888.py:2: UserWarning: Boolean Series key will be reindexed to match DataFrame index.\n",
      "  y = telco_internet[telco_internet.internet_service_type != 'None'][telco_internet.phone_service == 'Yes'].monthly_charges\n"
     ]
    },
    {
     "data": {
      "text/plain": [
       "0.4431147667282183"
      ]
     },
     "execution_count": 82,
     "metadata": {},
     "output_type": "execute_result"
    }
   ],
   "source": [
    "x = telco_internet[telco_internet.internet_service_type != 'None'][telco_internet.phone_service == 'Yes'].tenure\n",
    "y = telco_internet[telco_internet.internet_service_type != 'None'][telco_internet.phone_service == 'Yes'].monthly_charges\n",
    "\n",
    "r_xy = (((x - x.mean()) * (y - y.mean())).sum() / n) / (stdev(x) * stdev (y))\n",
    "r_xy"
   ]
  },
  {
   "cell_type": "code",
   "execution_count": 84,
   "id": "c209ed37",
   "metadata": {},
   "outputs": [
    {
     "data": {
      "text/plain": [
       "41.4763097230006"
      ]
     },
     "execution_count": 84,
     "metadata": {},
     "output_type": "execute_result"
    }
   ],
   "source": [
    "t = (r_xy * np.sqrt(n-2)) / np.sqrt(1 - r_xy**2)\n",
    "t"
   ]
  },
  {
   "cell_type": "code",
   "execution_count": 85,
   "id": "34db4146",
   "metadata": {},
   "outputs": [
    {
     "data": {
      "text/plain": [
       "True"
      ]
     },
     "execution_count": 85,
     "metadata": {},
     "output_type": "execute_result"
    }
   ],
   "source": [
    "p = stats.t.sf(t, df=degf) * 2\n",
    "p\n",
    "p < alpha"
   ]
  },
  {
   "cell_type": "code",
   "execution_count": 88,
   "id": "83714987",
   "metadata": {},
   "outputs": [
    {
     "data": {
      "text/plain": [
       "True"
      ]
     },
     "execution_count": 88,
     "metadata": {},
     "output_type": "execute_result"
    }
   ],
   "source": [
    "r, p = stats.pearsonr(x,y)\n",
    "r,p\n",
    "p<alpha"
   ]
  },
  {
   "cell_type": "markdown",
   "id": "4086a49a",
   "metadata": {},
   "source": [
    "## 2. Use the employees database."
   ]
  },
  {
   "cell_type": "code",
   "execution_count": 126,
   "id": "fc254e45",
   "metadata": {},
   "outputs": [
    {
     "data": {
      "text/html": [
       "<div>\n",
       "<style scoped>\n",
       "    .dataframe tbody tr th:only-of-type {\n",
       "        vertical-align: middle;\n",
       "    }\n",
       "\n",
       "    .dataframe tbody tr th {\n",
       "        vertical-align: top;\n",
       "    }\n",
       "\n",
       "    .dataframe thead th {\n",
       "        text-align: right;\n",
       "    }\n",
       "</style>\n",
       "<table border=\"1\" class=\"dataframe\">\n",
       "  <thead>\n",
       "    <tr style=\"text-align: right;\">\n",
       "      <th></th>\n",
       "      <th>emp_no</th>\n",
       "      <th>birth_date</th>\n",
       "      <th>first_name</th>\n",
       "      <th>last_name</th>\n",
       "      <th>gender</th>\n",
       "      <th>hire_date</th>\n",
       "      <th>emp_no</th>\n",
       "      <th>salary</th>\n",
       "      <th>from_date</th>\n",
       "      <th>to_date</th>\n",
       "    </tr>\n",
       "  </thead>\n",
       "  <tbody>\n",
       "    <tr>\n",
       "      <th>0</th>\n",
       "      <td>10001</td>\n",
       "      <td>1953-09-02</td>\n",
       "      <td>Georgi</td>\n",
       "      <td>Facello</td>\n",
       "      <td>M</td>\n",
       "      <td>1986-06-26</td>\n",
       "      <td>10001</td>\n",
       "      <td>88958</td>\n",
       "      <td>2002-06-22</td>\n",
       "      <td>9999-01-01</td>\n",
       "    </tr>\n",
       "    <tr>\n",
       "      <th>1</th>\n",
       "      <td>10002</td>\n",
       "      <td>1964-06-02</td>\n",
       "      <td>Bezalel</td>\n",
       "      <td>Simmel</td>\n",
       "      <td>F</td>\n",
       "      <td>1985-11-21</td>\n",
       "      <td>10002</td>\n",
       "      <td>72527</td>\n",
       "      <td>2001-08-02</td>\n",
       "      <td>9999-01-01</td>\n",
       "    </tr>\n",
       "    <tr>\n",
       "      <th>2</th>\n",
       "      <td>10003</td>\n",
       "      <td>1959-12-03</td>\n",
       "      <td>Parto</td>\n",
       "      <td>Bamford</td>\n",
       "      <td>M</td>\n",
       "      <td>1986-08-28</td>\n",
       "      <td>10003</td>\n",
       "      <td>43311</td>\n",
       "      <td>2001-12-01</td>\n",
       "      <td>9999-01-01</td>\n",
       "    </tr>\n",
       "    <tr>\n",
       "      <th>3</th>\n",
       "      <td>10004</td>\n",
       "      <td>1954-05-01</td>\n",
       "      <td>Chirstian</td>\n",
       "      <td>Koblick</td>\n",
       "      <td>M</td>\n",
       "      <td>1986-12-01</td>\n",
       "      <td>10004</td>\n",
       "      <td>74057</td>\n",
       "      <td>2001-11-27</td>\n",
       "      <td>9999-01-01</td>\n",
       "    </tr>\n",
       "    <tr>\n",
       "      <th>4</th>\n",
       "      <td>10005</td>\n",
       "      <td>1955-01-21</td>\n",
       "      <td>Kyoichi</td>\n",
       "      <td>Maliniak</td>\n",
       "      <td>M</td>\n",
       "      <td>1989-09-12</td>\n",
       "      <td>10005</td>\n",
       "      <td>94692</td>\n",
       "      <td>2001-09-09</td>\n",
       "      <td>9999-01-01</td>\n",
       "    </tr>\n",
       "  </tbody>\n",
       "</table>\n",
       "</div>"
      ],
      "text/plain": [
       "   emp_no  birth_date first_name last_name gender   hire_date  emp_no  salary  \\\n",
       "0   10001  1953-09-02     Georgi   Facello      M  1986-06-26   10001   88958   \n",
       "1   10002  1964-06-02    Bezalel    Simmel      F  1985-11-21   10002   72527   \n",
       "2   10003  1959-12-03      Parto   Bamford      M  1986-08-28   10003   43311   \n",
       "3   10004  1954-05-01  Chirstian   Koblick      M  1986-12-01   10004   74057   \n",
       "4   10005  1955-01-21    Kyoichi  Maliniak      M  1989-09-12   10005   94692   \n",
       "\n",
       "    from_date     to_date  \n",
       "0  2002-06-22  9999-01-01  \n",
       "1  2001-08-02  9999-01-01  \n",
       "2  2001-12-01  9999-01-01  \n",
       "3  2001-11-27  9999-01-01  \n",
       "4  2001-09-09  9999-01-01  "
      ]
     },
     "execution_count": 126,
     "metadata": {},
     "output_type": "execute_result"
    }
   ],
   "source": [
    "url = env.get_db_url('employees')\n",
    "emp_df = pd.read_sql('SELECT * FROM employees JOIN salaries ON employees.emp_no = salaries.emp_no WHERE to_date LIKE \"9999-01-01\"', url)\n",
    "emp_df.head()"
   ]
  },
  {
   "cell_type": "markdown",
   "id": "b622dd00",
   "metadata": {},
   "source": [
    "### a. Is there a relationship between how long an employee has been with the company and their salary?"
   ]
  },
  {
   "cell_type": "markdown",
   "id": "aae67b6f",
   "metadata": {},
   "source": [
    "H0 = For current employees, there is no relationship between how long an employee has been with the company and their salary.\n",
    "\n",
    "HA = For current employees, there is a relationship between how long an employee has been with the company and their salary."
   ]
  },
  {
   "cell_type": "code",
   "execution_count": 134,
   "id": "50d5d0ee",
   "metadata": {},
   "outputs": [
    {
     "data": {
      "text/html": [
       "<div>\n",
       "<style scoped>\n",
       "    .dataframe tbody tr th:only-of-type {\n",
       "        vertical-align: middle;\n",
       "    }\n",
       "\n",
       "    .dataframe tbody tr th {\n",
       "        vertical-align: top;\n",
       "    }\n",
       "\n",
       "    .dataframe thead th {\n",
       "        text-align: right;\n",
       "    }\n",
       "</style>\n",
       "<table border=\"1\" class=\"dataframe\">\n",
       "  <thead>\n",
       "    <tr style=\"text-align: right;\">\n",
       "      <th></th>\n",
       "      <th>emp_no</th>\n",
       "      <th>birth_date</th>\n",
       "      <th>first_name</th>\n",
       "      <th>last_name</th>\n",
       "      <th>gender</th>\n",
       "      <th>hire_date</th>\n",
       "      <th>emp_no</th>\n",
       "      <th>salary</th>\n",
       "      <th>from_date</th>\n",
       "      <th>to_date</th>\n",
       "      <th>days_at_company</th>\n",
       "    </tr>\n",
       "  </thead>\n",
       "  <tbody>\n",
       "    <tr>\n",
       "      <th>0</th>\n",
       "      <td>10001</td>\n",
       "      <td>1953-09-02</td>\n",
       "      <td>Georgi</td>\n",
       "      <td>Facello</td>\n",
       "      <td>M</td>\n",
       "      <td>1986-06-26</td>\n",
       "      <td>10001</td>\n",
       "      <td>88958</td>\n",
       "      <td>2002-06-22</td>\n",
       "      <td>9999-01-01</td>\n",
       "      <td>13489</td>\n",
       "    </tr>\n",
       "    <tr>\n",
       "      <th>1</th>\n",
       "      <td>10002</td>\n",
       "      <td>1964-06-02</td>\n",
       "      <td>Bezalel</td>\n",
       "      <td>Simmel</td>\n",
       "      <td>F</td>\n",
       "      <td>1985-11-21</td>\n",
       "      <td>10002</td>\n",
       "      <td>72527</td>\n",
       "      <td>2001-08-02</td>\n",
       "      <td>9999-01-01</td>\n",
       "      <td>13706</td>\n",
       "    </tr>\n",
       "    <tr>\n",
       "      <th>2</th>\n",
       "      <td>10003</td>\n",
       "      <td>1959-12-03</td>\n",
       "      <td>Parto</td>\n",
       "      <td>Bamford</td>\n",
       "      <td>M</td>\n",
       "      <td>1986-08-28</td>\n",
       "      <td>10003</td>\n",
       "      <td>43311</td>\n",
       "      <td>2001-12-01</td>\n",
       "      <td>9999-01-01</td>\n",
       "      <td>13426</td>\n",
       "    </tr>\n",
       "    <tr>\n",
       "      <th>3</th>\n",
       "      <td>10004</td>\n",
       "      <td>1954-05-01</td>\n",
       "      <td>Chirstian</td>\n",
       "      <td>Koblick</td>\n",
       "      <td>M</td>\n",
       "      <td>1986-12-01</td>\n",
       "      <td>10004</td>\n",
       "      <td>74057</td>\n",
       "      <td>2001-11-27</td>\n",
       "      <td>9999-01-01</td>\n",
       "      <td>13331</td>\n",
       "    </tr>\n",
       "    <tr>\n",
       "      <th>4</th>\n",
       "      <td>10005</td>\n",
       "      <td>1955-01-21</td>\n",
       "      <td>Kyoichi</td>\n",
       "      <td>Maliniak</td>\n",
       "      <td>M</td>\n",
       "      <td>1989-09-12</td>\n",
       "      <td>10005</td>\n",
       "      <td>94692</td>\n",
       "      <td>2001-09-09</td>\n",
       "      <td>9999-01-01</td>\n",
       "      <td>12315</td>\n",
       "    </tr>\n",
       "  </tbody>\n",
       "</table>\n",
       "</div>"
      ],
      "text/plain": [
       "   emp_no  birth_date first_name last_name gender   hire_date  emp_no  salary  \\\n",
       "0   10001  1953-09-02     Georgi   Facello      M  1986-06-26   10001   88958   \n",
       "1   10002  1964-06-02    Bezalel    Simmel      F  1985-11-21   10002   72527   \n",
       "2   10003  1959-12-03      Parto   Bamford      M  1986-08-28   10003   43311   \n",
       "3   10004  1954-05-01  Chirstian   Koblick      M  1986-12-01   10004   74057   \n",
       "4   10005  1955-01-21    Kyoichi  Maliniak      M  1989-09-12   10005   94692   \n",
       "\n",
       "    from_date     to_date  days_at_company  \n",
       "0  2002-06-22  9999-01-01            13489  \n",
       "1  2001-08-02  9999-01-01            13706  \n",
       "2  2001-12-01  9999-01-01            13426  \n",
       "3  2001-11-27  9999-01-01            13331  \n",
       "4  2001-09-09  9999-01-01            12315  "
      ]
     },
     "execution_count": 134,
     "metadata": {},
     "output_type": "execute_result"
    }
   ],
   "source": [
    "emp_df['days_at_company'] = (datetime.date.today() - emp_df.hire_date).dt.days\n",
    "x = emp_df.days_at_company\n",
    "y = emp_df.salary\n",
    "emp_df.head()"
   ]
  },
  {
   "cell_type": "code",
   "execution_count": 141,
   "id": "a00b4106",
   "metadata": {},
   "outputs": [
    {
     "data": {
      "text/plain": [
       "(0.3064625613186077, 0.0)"
      ]
     },
     "execution_count": 141,
     "metadata": {},
     "output_type": "execute_result"
    }
   ],
   "source": [
    "x = emp_df.days_at_company\n",
    "y = emp_df.salary\n",
    "r,p = stats.pearsonr(x,y)\n",
    "r, p\n",
    "p<alpha"
   ]
  },
  {
   "cell_type": "markdown",
   "id": "60a9f877",
   "metadata": {},
   "source": [
    "### b. Is there a relationship between how long an employee has been with the company and the number of titles they have had?"
   ]
  },
  {
   "cell_type": "code",
   "execution_count": null,
   "id": "1b94edad",
   "metadata": {},
   "outputs": [],
   "source": []
  }
 ],
 "metadata": {
  "kernelspec": {
   "display_name": "Python 3 (ipykernel)",
   "language": "python",
   "name": "python3"
  },
  "language_info": {
   "codemirror_mode": {
    "name": "ipython",
    "version": 3
   },
   "file_extension": ".py",
   "mimetype": "text/x-python",
   "name": "python",
   "nbconvert_exporter": "python",
   "pygments_lexer": "ipython3",
   "version": "3.10.9"
  }
 },
 "nbformat": 4,
 "nbformat_minor": 5
}
