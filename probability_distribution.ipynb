{
 "cells": [
  {
   "cell_type": "markdown",
   "id": "e1eb1d01",
   "metadata": {},
   "source": [
    "# Probability Exercises"
   ]
  },
  {
   "cell_type": "code",
   "execution_count": 1,
   "id": "b85b1d15",
   "metadata": {},
   "outputs": [],
   "source": [
    "import numpy as np\n",
    "import pandas as pd\n",
    "import matplotlib.pyplot as plt\n",
    "from scipy import stats"
   ]
  },
  {
   "cell_type": "markdown",
   "id": "01e4ec50",
   "metadata": {},
   "source": [
    "## 1. A bank found that the average number of cars waiting during the noon hour at a drive-up window follows a Poisson distribution with a mean of 2 cars. Make a chart of this distribution and answer these questions concerning the probability of cars waiting at the drive-up window."
   ]
  },
  {
   "cell_type": "code",
   "execution_count": 8,
   "id": "61b8f844",
   "metadata": {},
   "outputs": [
    {
     "data": {
      "image/png": "[encoded data removed]",
      "text/plain": [
       "<Figure size 640x480 with 1 Axes>"
      ]
     },
     "metadata": {},
     "output_type": "display_data"
    }
   ],
   "source": [
    "lmda = 2\n",
    "car_dist = stats.poisson(lmda)\n",
    "\n",
    "x = np.arange(0,12)\n",
    "y = [car_dist.pmf(i) for i in x]\n",
    "\n",
    "plt.bar(x,y)\n",
    "plt.xlabel('Number of Cars at Bank at Noon Hour')\n",
    "plt.ylabel('p(x)')\n",
    "plt.show()"
   ]
  },
  {
   "cell_type": "markdown",
   "id": "515aead2",
   "metadata": {},
   "source": [
    "### a.  What is the probability that no cars drive up in the noon hour?"
   ]
  },
  {
   "cell_type": "code",
   "execution_count": 9,
   "id": "0be14293",
   "metadata": {},
   "outputs": [
    {
     "data": {
      "text/plain": [
       "0.1353352832366127"
      ]
     },
     "execution_count": 9,
     "metadata": {},
     "output_type": "execute_result"
    }
   ],
   "source": [
    "car_dist.pmf(0)"
   ]
  },
  {
   "cell_type": "markdown",
   "id": "8d41cc69",
   "metadata": {},
   "source": [
    "### b. What is the probability that 3 or more cars come through the drive through?"
   ]
  },
  {
   "cell_type": "code",
   "execution_count": 10,
   "id": "7be91d73",
   "metadata": {},
   "outputs": [
    {
     "data": {
      "text/plain": [
       "0.32332358381693654"
      ]
     },
     "execution_count": 10,
     "metadata": {},
     "output_type": "execute_result"
    }
   ],
   "source": [
    "car_dist.sf(2)"
   ]
  },
  {
   "cell_type": "markdown",
   "id": "9a586277",
   "metadata": {},
   "source": [
    "### 3. How likely is it that the drive through gets at least 1 car?"
   ]
  },
  {
   "cell_type": "code",
   "execution_count": 11,
   "id": "4eea243f",
   "metadata": {},
   "outputs": [
    {
     "data": {
      "text/plain": [
       "0.8646647167633873"
      ]
     },
     "execution_count": 11,
     "metadata": {},
     "output_type": "execute_result"
    }
   ],
   "source": [
    "car_dist.sf(0)"
   ]
  },
  {
   "cell_type": "markdown",
   "id": "7bbcaa76",
   "metadata": {},
   "source": [
    "## 2. Grades of State University graduates are normally distributed with a mean of 3.0 and a standard deviation of .3. Calculate the following:"
   ]
  },
  {
   "cell_type": "markdown",
   "id": "3af6dfdc",
   "metadata": {},
   "source": [
    "### a. What grade point average is required to be in the top 5% of the graduating class?"
   ]
  },
  {
   "cell_type": "code",
   "execution_count": 92,
   "id": "09063ad1",
   "metadata": {},
   "outputs": [
    {
     "data": {
      "text/plain": [
       "3.4934560880854417"
      ]
     },
     "execution_count": 92,
     "metadata": {},
     "output_type": "execute_result"
    }
   ],
   "source": [
    "mean = 3\n",
    "standev = 0.3\n",
    "grad_dist = stats.norm(mean,standev)\n",
    "grad_dist.isf(.05)"
   ]
  },
  {
   "cell_type": "markdown",
   "id": "17100fbf",
   "metadata": {},
   "source": [
    "### b. What GPA constitutes the bottom 15% of the class?"
   ]
  },
  {
   "cell_type": "code",
   "execution_count": 94,
   "id": "7ad8c730",
   "metadata": {},
   "outputs": [
    {
     "data": {
      "text/plain": [
       "3.310930016848137"
      ]
     },
     "execution_count": 94,
     "metadata": {},
     "output_type": "execute_result"
    }
   ],
   "source": [
    "grad_dist.isf(.15)\n",
    "#Instructor Answer: grad_dist.ppf(.15)"
   ]
  },
  {
   "cell_type": "markdown",
   "id": "0f68c1ac",
   "metadata": {},
   "source": [
    "### c. An eccentric alumnus left scholarship money for students in the third decile from the bottom of their class. Determine the range of the third decile. Would a student with a 2.8 grade point average qualify for this scholarship?"
   ]
  },
  {
   "cell_type": "code",
   "execution_count": 28,
   "id": "46473577",
   "metadata": {},
   "outputs": [
    {
     "data": {
      "text/plain": [
       "array([3.1487551 , 3.25248637])"
      ]
     },
     "execution_count": 28,
     "metadata": {},
     "output_type": "execute_result"
    }
   ],
   "source": [
    "grad_dist.ppf([6.9/10,8/10])\n",
    "# No\n",
    "'''\n",
    "Instructor Answer:\n",
    "1st decile: 0-10 percent\n",
    "2nd decile: 10-20 percent\n",
    "3rd decile: 20-30 percent\n",
    "grade_dist.ppf([0.2, 0.3])'''"
   ]
  },
  {
   "cell_type": "markdown",
   "id": "4e80c445",
   "metadata": {},
   "source": [
    "### d. If I have a GPA of 3.5, what percentile am I in?"
   ]
  },
  {
   "cell_type": "code",
   "execution_count": 23,
   "id": "f8b5614e",
   "metadata": {},
   "outputs": [
    {
     "data": {
      "text/plain": [
       "0.3315904626424956"
      ]
     },
     "execution_count": 23,
     "metadata": {},
     "output_type": "execute_result"
    }
   ],
   "source": [
    "grad_dist.pdf(3.5)\n",
    "#Instructor Answer: grade_dist.cdf(3.5)"
   ]
  },
  {
   "cell_type": "markdown",
   "id": "d8437581",
   "metadata": {},
   "source": [
    "## 3. A marketing website has an average click-through rate of 2%. One day they observe 4326 visitors and 97 click-throughs. How likely is it that this many people or more click through?"
   ]
  },
  {
   "cell_type": "code",
   "execution_count": 25,
   "id": "08a60bc7",
   "metadata": {},
   "outputs": [
    {
     "data": {
      "text/plain": [
       "0.13975823631416445"
      ]
     },
     "execution_count": 25,
     "metadata": {},
     "output_type": "execute_result"
    }
   ],
   "source": [
    "mean = 0.02\n",
    "visitors = 4326\n",
    "click_dist = stats.binom(visitors, mean)\n",
    "click_dist.sf(96)"
   ]
  },
  {
   "cell_type": "markdown",
   "id": "f77dea75",
   "metadata": {},
   "source": [
    "## 4. You are working on some statistics homework consisting of 100 questions where all of the answers are a probability rounded to the hundreths place. Looking to save time, you put down random probabilities as the answer to each question."
   ]
  },
  {
   "cell_type": "markdown",
   "id": "074bc249",
   "metadata": {},
   "source": [
    "### a. What is the probability that at least one of your first 60 answers is correct?"
   ]
  },
  {
   "cell_type": "code",
   "execution_count": 95,
   "id": "522136f4",
   "metadata": {},
   "outputs": [
    {
     "data": {
      "text/plain": [
       "0.36972963764972655"
      ]
     },
     "execution_count": 95,
     "metadata": {},
     "output_type": "execute_result"
    }
   ],
   "source": [
    "n_questions = 100\n",
    "#Instructor Answer: n_questions = 60\n",
    "# guess_dist.sf(0)\n",
    "p_right= .01\n",
    "guess_dist = stats.binom(n_questions, p_right)\n",
    "guess_dist.pmf(1)"
   ]
  },
  {
   "cell_type": "markdown",
   "id": "085119df",
   "metadata": {},
   "source": [
    "## 5. The codeup staff tends to get upset when the student break area is not cleaned up. Suppose that there's a 3% chance that any one student cleans the break area when they visit it, and, on any given day, about 90% of the 3 active cohorts of 22 students visit the break area. How likely is it that the break area gets cleaned up each day? How likely is it that it goes two days without getting cleaned up? All week?"
   ]
  },
  {
   "cell_type": "code",
   "execution_count": 46,
   "id": "ae261252",
   "metadata": {},
   "outputs": [
    {
     "data": {
      "text/plain": [
       "0.30250590303772024"
      ]
     },
     "execution_count": 46,
     "metadata": {},
     "output_type": "execute_result"
    }
   ],
   "source": [
    "daily_visitors = round((3 * 22) * .9)\n",
    "chance_clean = .03\n",
    "clean_breakroom_dist = stats.binom(daily_visitors, chance_clean)\n",
    "clean_breakroom_dist.pmf(1)\n",
    "#instructor answer: clean_breakroom_dist.sf(0)"
   ]
  },
  {
   "cell_type": "code",
   "execution_count": 52,
   "id": "7b5c69c4",
   "metadata": {},
   "outputs": [
    {
     "data": {
      "text/plain": [
       "0.7286802725331787"
      ]
     },
     "execution_count": 52,
     "metadata": {},
     "output_type": "execute_result"
    }
   ],
   "source": [
    "daily_visitors = round((3 * 22) * .9)\n",
    "chance_clean = .03\n",
    "clean_breakroom_dist = stats.binom(daily_visitors, chance_clean)\n",
    "1 - clean_breakroom_dist.pmf(2)\n",
    "#n = round(3 * 22 * .9)\n",
    "#p = .03\n",
    "#Instructor answer: stats.binom(n * 2, p).pmf(0)"
   ]
  },
  {
   "cell_type": "code",
   "execution_count": 53,
   "id": "ae68e450",
   "metadata": {},
   "outputs": [
    {
     "data": {
      "text/plain": [
       "0.9765142596424636"
      ]
     },
     "execution_count": 53,
     "metadata": {},
     "output_type": "execute_result"
    }
   ],
   "source": [
    "daily_visitors = round((3 * 22) * .9)\n",
    "chance_clean = .03\n",
    "clean_breakroom_dist = stats.binom(daily_visitors, chance_clean)\n",
    "1 - clean_breakroom_dist.pmf(5)\n",
    "#Instructor answer: stats.binom(n * 5, p).pmf(0)"
   ]
  },
  {
   "cell_type": "markdown",
   "id": "6c3ac5b5",
   "metadata": {},
   "source": [
    "## 6. You want to get lunch at La Panaderia, but notice that the line is usually very long at lunchtime. After several weeks of careful observation, you notice that the average number of people in line when your lunch break starts is normally distributed with a mean of 15 and standard deviation of 3. If it takes 2 minutes for each person to order, and 10 minutes from ordering to getting your food, what is the likelihood that you have at least 15 minutes left to eat your food before you have to go back to class? Assume you have one hour for lunch, and ignore travel time to and from La Panaderia."
   ]
  },
  {
   "cell_type": "code",
   "execution_count": null,
   "id": "126939dd",
   "metadata": {},
   "outputs": [],
   "source": [
    "mean = 15\n",
    "standdev = 3\n",
    "'''\n",
    "Instructor answer:\n",
    "mean = 15 * 2\n",
    "stddev = 3 * 2\n",
    "\n",
    "Max time I can be in line without being late to class = 60 - 15 - 10 - 2 = 33 mins\n",
    "\n",
    "stats.norm(mean,stddev).cdf(33)\n",
    "'''\n"
   ]
  },
  {
   "cell_type": "markdown",
   "id": "e4228a61",
   "metadata": {},
   "source": [
    "## 7.  Connect to the employees database and find the average salary of current employees, along with the standard deviation. For the following questions, calculate the answer based on modeling the employees salaries with a normal distribution defined by the calculated mean and standard deviation then compare this answer to the actual values present in the salaries dataset."
   ]
  },
  {
   "cell_type": "code",
   "execution_count": 76,
   "id": "c1c64cba",
   "metadata": {},
   "outputs": [],
   "source": [
    "import env\n",
    "url = env.get_db_url('employees')\n",
    "current_salaries = pd.read_sql('''\n",
    "SELECT salary\n",
    "FROM salaries\n",
    "WHERE to_date = '9999-01-01'\n",
    "''', url)"
   ]
  },
  {
   "cell_type": "markdown",
   "id": "dd436a54",
   "metadata": {},
   "source": [
    "### a. What percent of employees earn less than 60,000?"
   ]
  },
  {
   "cell_type": "code",
   "execution_count": 82,
   "id": "36d2b396",
   "metadata": {},
   "outputs": [
    {
     "data": {
      "text/plain": [
       "array([0.24385742])"
      ]
     },
     "execution_count": 82,
     "metadata": {},
     "output_type": "execute_result"
    }
   ],
   "source": [
    "mean = current_salaries.mean()\n",
    "standdev = current_salaries.std()\n",
    "salary_dist= stats.norm(mean,standdev)\n",
    "salary_dist.cdf(60_000)"
   ]
  },
  {
   "cell_type": "markdown",
   "id": "fc6c7586",
   "metadata": {},
   "source": [
    "### b. What percent of employees earn more than 95,000?"
   ]
  },
  {
   "cell_type": "code",
   "execution_count": 83,
   "id": "bb68fb25",
   "metadata": {},
   "outputs": [
    {
     "data": {
      "text/plain": [
       "array([0.09208819])"
      ]
     },
     "execution_count": 83,
     "metadata": {},
     "output_type": "execute_result"
    }
   ],
   "source": [
    "salary_dist.sf(95_000)"
   ]
  },
  {
   "cell_type": "markdown",
   "id": "7dcff4d2",
   "metadata": {},
   "source": [
    "### c. What percent of employees earn between 65,000 and 80,000?"
   ]
  },
  {
   "cell_type": "code",
   "execution_count": 88,
   "id": "c1e29481",
   "metadata": {},
   "outputs": [
    {
     "data": {
      "text/plain": [
       "array([0.65731831, 0.32223651])"
      ]
     },
     "execution_count": 88,
     "metadata": {},
     "output_type": "execute_result"
    }
   ],
   "source": [
    "salary_dist.sf([64_999, 80_000])\n",
    "#Instructor answer: salary_dist.cdf([65_000, 80_000])"
   ]
  },
  {
   "cell_type": "markdown",
   "id": "500ab8a4",
   "metadata": {},
   "source": [
    "### d. What do the top 5% of employees make?"
   ]
  },
  {
   "cell_type": "code",
   "execution_count": 91,
   "id": "948d7cc6",
   "metadata": {},
   "outputs": [
    {
     "data": {
      "text/plain": [
       "array([100484.64454103])"
      ]
     },
     "execution_count": 91,
     "metadata": {},
     "output_type": "execute_result"
    }
   ],
   "source": [
    "salary_dist.isf(.05)"
   ]
  }
 ],
 "metadata": {
  "kernelspec": {
   "display_name": "Python 3 (ipykernel)",
   "language": "python",
   "name": "python3"
  },
  "language_info": {
   "codemirror_mode": {
    "name": "ipython",
    "version": 3
   },
   "file_extension": ".py",
   "mimetype": "text/x-python",
   "name": "python",
   "nbconvert_exporter": "python",
   "pygments_lexer": "ipython3",
   "version": "3.10.9"
  }
 },
 "nbformat": 4,
 "nbformat_minor": 5
}
