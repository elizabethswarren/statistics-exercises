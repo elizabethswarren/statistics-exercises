{
 "cells": [
  {
   "cell_type": "markdown",
   "id": "19996916",
   "metadata": {},
   "source": [
    "# Mage Duel"
   ]
  },
  {
   "cell_type": "markdown",
   "id": "01123c7b",
   "metadata": {},
   "source": [
    "Let's use what we've learned to play a mage duel!\n",
    "\n",
    "Imagine your wizard has 6d4 health points and you have spells that do 6d4 damage. \"6d4\" means rolling six 4-sided dice and summing the result.\n",
    "\n",
    "Your opposing mage has 4d6 health points and spells that do 4d6. \"4d6\" means rolling four six-sided dice and summing the result.\n",
    "\n",
    "## Exercises\n",
    "\n",
    "Simulate mage duels to answer who is the more powerful mage?"
   ]
  },
  {
   "cell_type": "code",
   "execution_count": 2,
   "id": "294fde91",
   "metadata": {},
   "outputs": [],
   "source": [
    "import numpy as np\n",
    "import pandas as pd"
   ]
  },
  {
   "cell_type": "markdown",
   "id": "93fac959",
   "metadata": {},
   "source": [
    "1. Before running simulations, do you have a hypothesis of which mage will win? Do you have a hunch? Write it down. This is your first exercise."
   ]
  },
  {
   "cell_type": "markdown",
   "id": "a37844ac",
   "metadata": {},
   "source": [
    "For my hypothesis I want to see the simple chances of getting a good roll. I would consider a good roll to be a 3 or higher on a single 6 sided die, and a 2 or higher on a four sided die, which would be 1/2 chance for any sided dice. Since the mage with six dice would have more opportunities to get a good roll, I believe that they would win."
   ]
  },
  {
   "cell_type": "markdown",
   "id": "c1677ce6",
   "metadata": {},
   "source": [
    "2. Simulate 10 mage duels. Is there a clear winner? Run that 10 duel simulation again. Was the answer similar?"
   ]
  },
  {
   "cell_type": "code",
   "execution_count": 10,
   "id": "ef668fe2",
   "metadata": {},
   "outputs": [
    {
     "name": "stdout",
     "output_type": "stream",
     "text": [
      "After 10 battles...Mage B is the winner with 5 wins.\n"
     ]
    }
   ],
   "source": [
    "def battle(n_simulation):\n",
    "    def mage_a_stat_rolls():\n",
    "        '''\n",
    "        This function randomly generates the health and spell rolls with 6d4 for the first mage.\n",
    "        All of the rolls are added together for each simulation.\n",
    "        The output is an np array with the health and spell in separate rows.\n",
    "        '''\n",
    "        outcome = [1, 2, 3, 4]\n",
    "        trial = 6\n",
    "        health = np.random.choice(outcome, (n_simulation, trial))\n",
    "        spells = np.random.choice(outcome, (n_simulation, trial))\n",
    "        return np.array([health.sum(axis=1),spells.sum(axis=1)])\n",
    "    \n",
    "    def mage_b_stat_rolls():\n",
    "        '''\n",
    "        This function randomly generates the health and spell rolls with 4d6 for the second mage.\n",
    "        All of the rolls are added together for each simulation.\n",
    "        The output is an np array with the health and spell in separate rows.\n",
    "        '''\n",
    "        outcome = [1, 2, 3, 4, 5, 6]\n",
    "        trial = 4\n",
    "        health = (np.random.choice(outcome, (n_simulation, trial)))\n",
    "        spells = (np.random.choice(outcome, (n_simulation, trial)))\n",
    "        return np.array([health.sum(axis=1),spells.sum(axis=1)])\n",
    "    \n",
    "    mage1 = mage_a_stat_rolls()\n",
    "    \n",
    "    mage2 = mage_b_stat_rolls()\n",
    "    \n",
    "    for roll in mage1[0][:]:\n",
    "        roll -=  [roll for roll in mage2[1][:]]\n",
    "        first_attack = roll\n",
    "        \n",
    "    for roll in mage2[0][:]:\n",
    "        roll -=  [roll for roll in mage1[1][:]]\n",
    "        second_attack = roll\n",
    "\n",
    "    if sum(first_attack > second_attack) > sum(second_attack > first_attack):\n",
    "        winner = 'Mage A'\n",
    "        wins = sum(first_attack > second_attack)\n",
    "    else:\n",
    "        winner = 'Mage B'\n",
    "        wins = sum(second_attack > first_attack)\n",
    "\n",
    "    return print(f'After {n_simulation} battles...{winner} is the winner with {wins} wins.')\n",
    "\n",
    "\n",
    "battle(10)"
   ]
  },
  {
   "cell_type": "markdown",
   "id": "13271c24",
   "metadata": {},
   "source": [
    "3. Do the results change much at 100 duels?"
   ]
  },
  {
   "cell_type": "code",
   "execution_count": 4,
   "id": "47988f4f",
   "metadata": {},
   "outputs": [
    {
     "name": "stdout",
     "output_type": "stream",
     "text": [
      "After 100 battles...Mage A is the winner with 33 wins.\n"
     ]
    }
   ],
   "source": [
    "battle(100)"
   ]
  },
  {
   "cell_type": "markdown",
   "id": "6d62cb68",
   "metadata": {},
   "source": [
    "4. Now, simulate 10,000 mage duels. Is there a clear winner?"
   ]
  },
  {
   "cell_type": "code",
   "execution_count": 5,
   "id": "7ca15b81",
   "metadata": {},
   "outputs": [
    {
     "name": "stdout",
     "output_type": "stream",
     "text": [
      "After 10000 battles...Mage A is the winner with 2812 wins.\n"
     ]
    }
   ],
   "source": [
    "battle(10000)"
   ]
  }
 ],
 "metadata": {
  "kernelspec": {
   "display_name": "Python 3 (ipykernel)",
   "language": "python",
   "name": "python3"
  },
  "language_info": {
   "codemirror_mode": {
    "name": "ipython",
    "version": 3
   },
   "file_extension": ".py",
   "mimetype": "text/x-python",
   "name": "python",
   "nbconvert_exporter": "python",
   "pygments_lexer": "ipython3",
   "version": "3.10.9"
  }
 },
 "nbformat": 4,
 "nbformat_minor": 5
}
