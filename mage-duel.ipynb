{
 "cells": [
  {
   "cell_type": "markdown",
   "id": "19996916",
   "metadata": {},
   "source": [
    "# Mage Duel"
   ]
  },
  {
   "cell_type": "markdown",
   "id": "01123c7b",
   "metadata": {},
   "source": [
    "Let's use what we've learned to play a mage duel!\n",
    "\n",
    "Imagine your wizard has 6d4 health points and you have spells that do 6d4 damage. \"6d4\" means rolling six 4-sided dice and summing the result.\n",
    "\n",
    "Your opposing mage has 4d6 health points and spells that do 4d6. \"4d6\" means rolling four six-sided dice and summing the result.\n",
    "\n",
    "## Exercises\n",
    "\n",
    "Simulate mage duels to answer who is the more powerful mage?"
   ]
  },
  {
   "cell_type": "code",
   "execution_count": 2,
   "id": "294fde91",
   "metadata": {},
   "outputs": [],
   "source": [
    "import numpy as np\n",
    "import pandas as pd"
   ]
  },
  {
   "cell_type": "markdown",
   "id": "93fac959",
   "metadata": {},
   "source": [
    "1. Before running simulations, do you have a hypothesis of which mage will win? Do you have a hunch? Write it down. This is your first exercise."
   ]
  },
  {
   "cell_type": "markdown",
   "id": "a37844ac",
   "metadata": {},
   "source": [
    "For my hypothesis I want to see the simple chances of getting a good roll. I would consider a good roll to be a 3 or higher on a single 6 sided die, and a 2 or higher on a four sided die, which would be 1/2 chance for any sided dice. Since the mage with six dice would have more opportunities to get a good roll, I believe that they would win."
   ]
  },
  {
   "cell_type": "markdown",
   "id": "c1677ce6",
   "metadata": {},
   "source": [
    "2. Simulate 10 mage duels. Is there a clear winner? Run that 10 duel simulation again. Was the answer similar?"
   ]
  },
  {
   "cell_type": "code",
   "execution_count": null,
   "id": "0ca5498d",
   "metadata": {},
   "outputs": [],
   "source": []
  },
  {
   "cell_type": "markdown",
   "id": "41aacbe1",
   "metadata": {},
   "source": [
    "## Steps to creating battle:\n",
    "\n",
    " ### 1. generate the stats for each mage\n",
    " \n",
    "     Right now I have the health and spell rolls concatenated into a single array. For simulating that battle latter, I think it would be easier to keep those arrays in one matrix but keep them separate. Need to read more numpy docs to find the right method for this. Or it may be easier to keep it as two arrays. \n",
    "     \n",
    " ### 2. Simulate battle\n",
    "     \n",
    "     For the battle, attacks would be subtracting the health by the spells. \n",
    "          \n",
    "### 3. Determine winner\n",
    "     \n",
    "     With only the single output per simulation, the winner would be the one with the highest health.     \n",
    "     \n",
    " ### 4. Output the results of the battles.\n",
    " \n",
    " \n",
    " \n",
    " \n",
    "My goal is to make a single function, with the number of simulations as an argument, that outputs the overall winner over all of the simulations. Example: After 100 battles, Mage A is the winner with 52 battles won.   "
   ]
  },
  {
   "cell_type": "code",
   "execution_count": 66,
   "id": "ef668fe2",
   "metadata": {},
   "outputs": [
    {
     "name": "stdout",
     "output_type": "stream",
     "text": [
      "After 10 battles...\n",
      "None\n"
     ]
    }
   ],
   "source": [
    "def battle(n_simulation):\n",
    "    def mage_a_stat_rolls():\n",
    "        outcome = [1, 2, 3, 4]\n",
    "        trial = 6\n",
    "        health = np.random.choice(outcome, (n_simulation, trial))\n",
    "        spells = np.random.choice(outcome, (n_simulation, trial))\n",
    "        return (np.concatenate((health, spells))).sum(axis=1)\n",
    "    \n",
    "    def mage_b_stat_rolls():\n",
    "        outcome = [1, 2, 3, 4, 5, 6]\n",
    "        trial = 4\n",
    "        health = (np.random.choice(outcome, (n_simulation, trial))).sum(axis=1)\n",
    "        spells = (np.random.choice(outcome, (n_simulation, trial))).sum(axis=1)\n",
    "        return np.concatenate((health, spells))\n",
    "    return print(f'After {n_simulation} battles...')\n",
    "\n",
    "    \n",
    "#def mage_a_stat_rolls(n_simulation):\n",
    "#   outcome = [1, 2, 3, 4]\n",
    "#    trial = 6\n",
    "#    health = np.random.choice(outcome, (n_simulation, trial))\n",
    "#    spells = np.random.choice(outcome, (n_simulation, trial))\n",
    "#    return (np.concatenate((health, spells))).sum(axis=1)\n",
    "\n",
    "#def mage_b_stat_rolls(n_simulation):\n",
    "#    outcome = [1, 2, 3, 4, 5, 6]\n",
    "#    trial = 4\n",
    "#    health = (np.random.choice(outcome, (n_simulation, trial))).sum(axis=1)\n",
    "#    spells = (np.random.choice(outcome, (n_simulation, trial))).sum(axis=1)\n",
    "#    return np.concatenate((health, spells))\n",
    "    \n",
    "\n",
    "#def battle_sim(n_sims):\n",
    "#    for row in mage1\n",
    "\n",
    "print(battle(10))"
   ]
  },
  {
   "cell_type": "markdown",
   "id": "13271c24",
   "metadata": {},
   "source": [
    "3. Do the results change much at 100 duels?"
   ]
  },
  {
   "cell_type": "code",
   "execution_count": null,
   "id": "47988f4f",
   "metadata": {},
   "outputs": [],
   "source": []
  },
  {
   "cell_type": "markdown",
   "id": "6d62cb68",
   "metadata": {},
   "source": [
    "4. Now, simulate 10,000 mage duels. Is there a clear winner?"
   ]
  },
  {
   "cell_type": "code",
   "execution_count": null,
   "id": "7ca15b81",
   "metadata": {},
   "outputs": [],
   "source": []
  }
 ],
 "metadata": {
  "kernelspec": {
   "display_name": "Python 3 (ipykernel)",
   "language": "python",
   "name": "python3"
  },
  "language_info": {
   "codemirror_mode": {
    "name": "ipython",
    "version": 3
   },
   "file_extension": ".py",
   "mimetype": "text/x-python",
   "name": "python",
   "nbconvert_exporter": "python",
   "pygments_lexer": "ipython3",
   "version": "3.10.9"
  }
 },
 "nbformat": 4,
 "nbformat_minor": 5
}
